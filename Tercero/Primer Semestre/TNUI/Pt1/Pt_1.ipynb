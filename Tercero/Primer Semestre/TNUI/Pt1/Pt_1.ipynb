{
  "cells": [
    {
      "cell_type": "markdown",
      "id": "8ef30a1a",
      "metadata": {
        "id": "8ef30a1a"
      },
      "source": [
        "# Pràctica 1:\n",
        "\n",
        "Nom dels alumnes del grup: Jose Candón y Pau González\n",
        "\n",
        "# Análisis exploratorio de datos (EDA) & uso de herramientas avanzadas de Python\n",
        "\n",
        "El **análisis exploratorio de datos** (EDA, por sus siglas en inglés, *Exploratory Data Analysis*) es un proceso crítico en la ciencia de los datos que implica **explorar, resumir y visualizar** los datos para entender sus características principales. El objetivo principal del EDA es revelar patrones, tendencias y anomalías a partir de los datos, sin hacer suposiciones demasiado específicas o construir modelos demasiado complejos.\n",
        "\n",
        "Aquí tenéis algunos de los elementos más importantes del análisis exploratorio de datos:\n",
        "\n",
        "+ **Visualización de datos**: A través de gráficos y representaciones visuales, se muestran los datos para observar distribuciones, tendencias y relaciones. Esto puede incluir histogramas, gráficos de barras, diagramas de dispersión, gráficos de caja, etc.\n",
        "\n",
        "+ **Estadísticas descriptivas**: Se calculan estadísticas como la media, la mediana, la desviación estándar y otras medidas resumen para describir las características básicas de las variables.\n",
        "\n",
        "+ **Detección de anomalías**: Se busca identificar valores atípicos o anómalos que puedan indicar errores o situaciones especiales en los datos.\n",
        "\n",
        "+ **Imputación de datos faltantes**: Si los datos tienen huecos o valores ausentes, se puede decidir cómo rellenar esos huecos de manera adecuada.\n",
        "\n",
        "+ **Exploración de relaciones**: Se buscan correlaciones y relaciones entre las diferentes variables de los datos para identificar conexiones y dependencias.\n",
        "\n",
        "+ **Agrupación de datos**: Se dividen los datos en subconjuntos basados en ciertas características para analizarlos más detenidamente.\n",
        "\n",
        "+ **Transformación de datos**: Se pueden aplicar transformaciones a los datos para hacerlos más adecuados para análisis posteriores, como la estandarización o la normalización.\n",
        "\n",
        "+ **Selección de características**: Si se trabaja con un conjunto de datos con muchas variables, se puede realizar una selección de características para reducir la complejidad y mejorar la eficiencia del análisis.\n",
        "\n",
        "Python ofrece una amplia gama de herramientas y bibliotecas para realizar el análisis exploratorio de datos (EDA). Algunas de las bibliotecas más populares y útiles son las siguientes:\n",
        "\n",
        "+ **NumPy**: NumPy es una biblioteca fundamental para la computación científica en Python. Proporciona funcionalidades para trabajar con matrices y vectores, lo cual es esencial para el análisis de datos.\n",
        "\n",
        "+ **Pandas**: Pandas es una biblioteca muy popular para el análisis de datos que ofrece estructuras de datos como DataFrame y Series, que facilitan la manipulación y análisis de datos tabulares. Se puede utilizar Pandas para cargar, limpiar y explorar los datos.\n",
        "\n",
        "+ **Matplotlib**: Matplotlib es una biblioteca para la visualización de datos que permite crear una amplia gama de gráficos y representaciones personalizadas. Es ideal para crear histogramas, diagramas de dispersión, gráficos de barras y muchas otras visualizaciones.\n",
        "\n",
        "+ **SciPy**: SciPy es una biblioteca que amplía las funcionalidades de NumPy y proporciona herramientas adicionales para el análisis científico, incluidos estadísticos y métodos de optimización.\n",
        "\n",
        "+ **Scikit-learn**: Si se está interesado en el aprendizaje automático, Scikit-learn es una biblioteca esencial que ofrece herramientas para clasificación, regresión, agrupación y otras tareas de aprendizaje automático. También contiene utilidades para la selección de características.\n",
        "\n",
        "+ **Seaborn**: Seaborn es una biblioteca de visualización de datos basada en Matplotlib que simplifica la creación de gráficos estadísticos atractivos e informativos. Es especialmente útil para la visualización de relaciones y tendencias en los datos.\n"
      ]
    },
    {
      "cell_type": "markdown",
      "id": "9a858270",
      "metadata": {
        "id": "9a858270"
      },
      "source": [
        "## 0. Objetivo de la práctica\n",
        "\n",
        "El **objetivo de esta práctica** es aprender cómo realizar una exploración sobre un conjunto de datos real, que al final nos permita obtener la respuesta a varias preguntas.\n",
        "\n",
        "En esta práctica exploraremos los datos de los trayectos de los **taxis amarillos de la ciudad de Nueva York** durante varios años.\n",
        "\n",
        "Al finalizar esta práctica, deberéis ser capaces de responder la siguiente pregunta de forma detallada:\n",
        "\n",
        "- **¿Cómo afectó la pandemia de la Covid al uso de los taxis en Nueva York?**\n",
        "\n",
        "Para responder a esta pregunta tan genérica, la descompondremos en preguntas más concretas:\n",
        "\n",
        "- ¿Qué distribución de encargos siguen los taxis y qué distancia / duración tienen?\n",
        "- ¿Cuáles son las zonas donde más / menos taxis se toman?\n",
        "- ¿Qué horarios son los más habituales?\n",
        "- ¿Qué días de la semana y del mes se utilizan más?\n",
        "- Etc.\n"
      ]
    },
    {
      "cell_type": "markdown",
      "id": "87c0ff5e",
      "metadata": {
        "id": "87c0ff5e"
      },
      "source": [
        "### Instal·lació i importació de les llibreries necessàries\n",
        "\n",
        "A més a més de les llibreries comentades, farem servir aquests mòduls de Python:\n",
        "\n",
        "+ **PyArrow**: PyArrow és una biblioteca de Python que es fa servir per a l'intercanvi eficient de dades entre Python i altres llenguatges de programació, especialment C++ i Java. Aquesta biblioteca es desenvolupa com a part del projecte Apache Arrow, que és un projecte de codi obert dissenyat per a millorar el rendiment i la interoperabilitat de l'analítica de dades i les tecnologies relacionades. PyArrow permet la creació i la manipulació eficient de dades en forma de taules i columnes. PyArrow ofereix suport per a l'estructura de dades coneguda com a \"Table\", que és similar a una taula o un quadern de dades en altres llenguatges. Aquesta estructura de dades facilita l'organització i la manipulació de dades tabulars."
      ]
    },
    {
      "cell_type": "code",
      "execution_count": 4,
      "id": "f8469f3f-c887-4a60-b5aa-f4d7cec4315f",
      "metadata": {
        "id": "f8469f3f-c887-4a60-b5aa-f4d7cec4315f"
      },
      "outputs": [
        {
          "name": "stdout",
          "output_type": "stream",
          "text": [
            "3.12.7\n"
          ]
        }
      ],
      "source": [
        "from platform import python_version\n",
        "print(python_version())"
      ]
    },
    {
      "cell_type": "code",
      "execution_count": null,
      "id": "3e821ddc",
      "metadata": {
        "id": "3e821ddc",
        "tags": []
      },
      "outputs": [
        {
          "name": "stdout",
          "output_type": "stream",
          "text": [
            "Requirement already satisfied: pyarrow in c:\\users\\josea\\anaconda3\\lib\\site-packages (16.1.0)\n",
            "Requirement already satisfied: numpy>=1.16.6 in c:\\users\\josea\\anaconda3\\lib\\site-packages (from pyarrow) (1.26.4)\n"
          ]
        }
      ],
      "source": [
        "! pip install pyarrow"
      ]
    },
    {
      "cell_type": "code",
      "execution_count": 2,
      "id": "b3c240c3",
      "metadata": {
        "id": "b3c240c3"
      },
      "outputs": [],
      "source": [
        "import pandas as pd\n",
        "import numpy as np\n",
        "import urllib.request\n",
        "import zipfile\n",
        "import os\n",
        "from tqdm.notebook import tqdm\n",
        "import pyarrow.parquet as pq"
      ]
    },
    {
      "cell_type": "code",
      "execution_count": 3,
      "id": "db7d0666",
      "metadata": {
        "id": "db7d0666"
      },
      "outputs": [],
      "source": [
        "import matplotlib as mpl\n",
        "import matplotlib.pyplot as plt\n",
        "%matplotlib inline"
      ]
    },
    {
      "cell_type": "markdown",
      "id": "7e48b62f-d76e-47c1-9153-2bbc1abd361a",
      "metadata": {
        "id": "7e48b62f-d76e-47c1-9153-2bbc1abd361a"
      },
      "source": [
        "## 1. Descàrrega de dades"
      ]
    },
    {
      "cell_type": "code",
      "execution_count": 3,
      "id": "02458c74",
      "metadata": {
        "id": "02458c74"
      },
      "outputs": [],
      "source": [
        "# Variables globals: els anys que estudiarem\n",
        "YEARS = [2019, 2020, 2021]"
      ]
    },
    {
      "cell_type": "code",
      "execution_count": 1,
      "id": "c6f194ca",
      "metadata": {
        "id": "c6f194ca",
        "tags": []
      },
      "outputs": [
        {
          "ename": "NameError",
          "evalue": "name 'tqdm' is not defined",
          "output_type": "error",
          "traceback": [
            "\u001b[1;31m---------------------------------------------------------------------------\u001b[0m",
            "\u001b[1;31mNameError\u001b[0m                                 Traceback (most recent call last)",
            "Cell \u001b[1;32mIn[1], line 4\u001b[0m\n\u001b[0;32m      1\u001b[0m \u001b[38;5;66;03m# Descàrrega de les dades: Trip Record Data\u001b[39;00m\n\u001b[0;32m      2\u001b[0m \u001b[38;5;66;03m# https://www1.nyc.gov/site/tlc/about/tlc-trip-record-data.page\u001b[39;00m\n\u001b[1;32m----> 4\u001b[0m \u001b[38;5;28;01mfor\u001b[39;00m year \u001b[38;5;129;01min\u001b[39;00m tqdm(YEARS):\n\u001b[0;32m      5\u001b[0m     \u001b[38;5;28;01mif\u001b[39;00m \u001b[38;5;129;01mnot\u001b[39;00m os\u001b[38;5;241m.\u001b[39mpath\u001b[38;5;241m.\u001b[39mexists(\u001b[38;5;124mf\u001b[39m\u001b[38;5;124m'\u001b[39m\u001b[38;5;124mdata/\u001b[39m\u001b[38;5;132;01m{\u001b[39;00myear\u001b[38;5;132;01m}\u001b[39;00m\u001b[38;5;124m'\u001b[39m):\n\u001b[0;32m      6\u001b[0m         os\u001b[38;5;241m.\u001b[39mmakedirs(\u001b[38;5;124mf\u001b[39m\u001b[38;5;124m'\u001b[39m\u001b[38;5;124mdata/\u001b[39m\u001b[38;5;132;01m{\u001b[39;00myear\u001b[38;5;132;01m}\u001b[39;00m\u001b[38;5;124m'\u001b[39m, exist_ok\u001b[38;5;241m=\u001b[39m\u001b[38;5;28;01mTrue\u001b[39;00m)\n",
            "\u001b[1;31mNameError\u001b[0m: name 'tqdm' is not defined"
          ]
        }
      ],
      "source": [
        "# Descàrrega de les dades: Trip Record Data\n",
        "# https://www1.nyc.gov/site/tlc/about/tlc-trip-record-data.page\n",
        "\n",
        "for year in tqdm(YEARS):\n",
        "    if not os.path.exists(f'data/{year}'):\n",
        "        os.makedirs(f'data/{year}', exist_ok=True)\n",
        "        for month in tqdm(range(1, 13)):\n",
        "            urllib.request.urlretrieve(f'https://d37ci6vzurychx.cloudfront.net/trip-data/yellow_tripdata_{year}-{month:02d}.parquet', f'data/{year}/{month:02d}.parquet')"
      ]
    },
    {
      "cell_type": "markdown",
      "id": "20c3c6d0",
      "metadata": {
        "id": "20c3c6d0"
      },
      "source": [
        "## 2. Limpieza de datos\n",
        "\n",
        "Para tener unos datos limpios y útiles, eliminaremos todos aquellos trayectos (filas del conjunto de datos) que contengan información *corrupta*. Por ejemplo, hay que verificar que no se dé ninguno de estos casos:\n",
        "\n",
        "- Presencia de *missing data* (campos/columnas de los datos sin valor).\n",
        "- La hora de recogida es posterior a la finalización del trayecto.\n",
        "- Los datos se importan por mes y año. ¿Son coherentes los valores que contienen los datos?\n",
        "- ¿Hay viajes con un número absurdo de pasajeros?\n",
        "- ¿Hay viajes demasiado largos o demasiado cortos?\n",
        "- ¿Hay pagos negativos?\n",
        "- Etc.\n",
        "\n",
        "Además, debemos considerar aspectos concretos de estos datos:\n",
        "\n",
        "+ Puede haber viajes imposibles según la normativa:\n",
        "    + [Más viajeros de los permitidos](https://www1.nyc.gov/site/tlc/passengers/passenger-frequently-asked-questions.page) o [velocidades ilegales](https://www.speed-limits.com/newyork).\n",
        "    + [Límite de personas permitidas en un yellow taxicab](https://drive.google.com/file/d/1eiV7wdm7WrkRlM9bmekCRM6GY3Yq6GI2/view?usp=sharing)\n"
      ]
    },
    {
      "cell_type": "markdown",
      "id": "31df86a1",
      "metadata": {
        "id": "31df86a1"
      },
      "source": [
        "De totes les columnes que tenen les dades, només cal fer servir les següents per contestar les preguntes:\n",
        "\n",
        "- *tpep_pickup_datetime*: The date and time when the meter was engaged.\n",
        "- *tpep_dropoff_datetime*: The date and time when the meter was disengaged.\n",
        "- *Passenger_count*: The number of passengers in the vehicle.\n",
        "- *Trip_distance*: The elapsed trip distance in miles reported by the taximeter.\n",
        "- *PULocationID*: TLC Taxi Zone in which the taximeter was engaged\n",
        "- *DOLocationID*: TLC Taxi Zone in which the taximeter was disengaged\n",
        "- *Payment_type*: A numeric code signifying how the passenger paid for the trip.\n",
        "    - 1= Credit card\n",
        "    - 2= Cash\n",
        "    - 3= No charge\n",
        "    - 4= Dispute\n",
        "    - 5= Unknown\n",
        "    - 6= Voided trip\n",
        "- *Fare_amount*: The time-and-distance fare calculated by the meter.\n",
        "- *Total_amount*: The total amount charged to passengers."
      ]
    },
    {
      "cell_type": "code",
      "execution_count": 25,
      "id": "98a17743",
      "metadata": {
        "id": "98a17743"
      },
      "outputs": [
        {
          "data": {
            "text/plain": [
              "(76967, 9)"
            ]
          },
          "execution_count": 25,
          "metadata": {},
          "output_type": "execute_result"
        }
      ],
      "source": [
        "# Carreguem les dades a un dataframe de pandas\n",
        "# Per agilitzar els càlculs i reduir el temps de càlcul durant el desenvolupament,\n",
        "# eliminem les columnes que no són útils i treballem amb una mostra\n",
        "# uniforme de les dades (1 fila de cada 100).\n",
        "\n",
        "def load_table(year, month, sampling = 100):\n",
        "    \"\"\"\n",
        "    Funció que llegeix les dades descarregades i les converteix a un DataFrame\n",
        "    \"\"\"\n",
        "    data = pq.read_table(f'data/{year}/{str(month).zfill(2)}.parquet').to_pandas()\n",
        "    required_data = ['tpep_pickup_datetime',\n",
        "                 'tpep_dropoff_datetime',\n",
        "                 'passenger_count',\n",
        "                 'trip_distance',\n",
        "                 'PULocationID',\n",
        "                 'DOLocationID',\n",
        "                 'payment_type',\n",
        "                 'fare_amount',\n",
        "                 'total_amount']\n",
        "    return data[required_data][::sampling]\n",
        "\n",
        "# explorem una mica les dades\n",
        "test = load_table(2019, 1)\n",
        "test.shape"
      ]
    },
    {
      "cell_type": "code",
      "execution_count": null,
      "id": "141c1aec-cd63-4657-a37a-39cac5cfa945",
      "metadata": {
        "id": "141c1aec-cd63-4657-a37a-39cac5cfa945"
      },
      "outputs": [],
      "source": [
        "test.tail(20000)"
      ]
    },
    {
      "cell_type": "markdown",
      "id": "99b367ec",
      "metadata": {
        "id": "99b367ec"
      },
      "source": [
        "###  Exercici A\n",
        "\n",
        "+ Un cop llegides les dades a una taula de Pandas, implementa una funció que faci el procés de neteja que consideris necessari. Per determinar què és necessari, **explora** els valors que apareixen a cada columna del dataframe de Pandas i decideix què cal fer.\n",
        "\n",
        "> *Nota: Les columnes `Datatime` són un subtipus de dades de Pandas anomenades `datetime`.  Busca com tractar de forma eficient aquest tipus de dades en Pandas.*"
      ]
    },
    {
      "cell_type": "code",
      "execution_count": null,
      "id": "1e521108",
      "metadata": {
        "id": "1e521108",
        "tags": []
      },
      "outputs": [
        {
          "data": {
            "text/plain": [
              "(7680, 9)"
            ]
          },
          "execution_count": 28,
          "metadata": {},
          "output_type": "execute_result"
        }
      ],
      "source": [
        "def clean_data(data, year, month):\n",
        "    \"\"\"\n",
        "    Funció que neteja (una mostra de) les dades.\n",
        "    \"\"\"\n",
        "\n",
        "    # Eliminamos filas con valores nulos\n",
        "    data = data.dropna()\n",
        "\n",
        "    #==============================================================\n",
        "\n",
        "    # payment_type entre 1 y 2\n",
        "    data = data[data['payment_type'].between(1, 2)]\n",
        "\n",
        "    # pasajeros entre 1 y 5\n",
        "    data = data[data['passenger_count'].between(1,5)]\n",
        "\n",
        "    #==============================================================\n",
        "\n",
        "    # fare_amount > total_amount (No es posible que el pago final sea menor)\n",
        "    data = data[data['fare_amount'] <= data['total_amount']]\n",
        "\n",
        "    # Evita pagos negativos y pagos nulos\n",
        "    data = data[\n",
        "        (data['fare_amount'] <= data['total_amount']) &\n",
        "        (data['fare_amount'] > 0) &\n",
        "        (data['total_amount'] > 0)\n",
        "    ]\n",
        "\n",
        "    #==============================================================\n",
        "\n",
        "    # No acaba donde empieza, para que va alguien a coger un taxi para dar un circulo?\n",
        "    data = data[data['PULocationID'] != data['DOLocationID']]\n",
        "\n",
        "    #Zonas\n",
        "    data = data[data['PULocationID'].between(1, 263)]\n",
        "    data = data[data['DOLocationID'].between(1, 263)]\n",
        "\n",
        "    #==============================================================\n",
        "   \n",
        "    # Filtramos las filas válidas (pickup <= dropoff)\n",
        "    data = data[data['tpep_pickup_datetime'] <= data['tpep_dropoff_datetime']]\n",
        "\n",
        "    # Año correcto\n",
        "    data = data[data['tpep_pickup_datetime'].dt.year == year]\n",
        "    data = data[data['tpep_dropoff_datetime'].dt.year == year] # Ya se filtra con el viaje menor de 6 h\n",
        "    # mes correcto\n",
        "    data = data[data['tpep_pickup_datetime'].dt.month == month]\n",
        "\n",
        "    # Viaje menor a 6 horas, mayor a 3 min (1 km pillando tood en rojo (según gpt :))\n",
        "    data = data[(data['tpep_dropoff_datetime'] - data['tpep_pickup_datetime']) <= pd.Timedelta(hours = 6)]\n",
        "    data = data[(data['tpep_dropoff_datetime'] - data['tpep_pickup_datetime']) >= pd.Timedelta(minutes = 3)]\n",
        "    #==============================================================\n",
        "\n",
        "    # Eliminar exceso de velocidad (NO HA CAMBIOS)\n",
        "    pickup = pd.to_datetime(data['tpep_pickup_datetime'])\n",
        "    dropoff = pd.to_datetime(data['tpep_dropoff_datetime'])\n",
        "    duration_h = (dropoff - pickup).dt.total_seconds() / 3600\n",
        "    data = data[data['trip_distance'] / duration_h <= 65]\n",
        "\n",
        "    # Distancia trip > 0.4\n",
        "    data = data[data['trip_distance'] > 0.4]\n",
        "\n",
        "    \n",
        "    data = data[\n",
        "    (data['fare_amount'] / data['trip_distance']).between(1.5, 4.5)]\n",
        "\n",
        "    return data\n",
        "\n",
        "test = clean_data(test, 2019,1)\n",
        "test.shape"
      ]
    },
    {
      "cell_type": "code",
      "execution_count": 29,
      "id": "92bf0adf-163a-43d1-8bce-f46b05a7eba1",
      "metadata": {
        "id": "92bf0adf-163a-43d1-8bce-f46b05a7eba1"
      },
      "outputs": [
        {
          "data": {
            "text/html": [
              "<div>\n",
              "<style scoped>\n",
              "    .dataframe tbody tr th:only-of-type {\n",
              "        vertical-align: middle;\n",
              "    }\n",
              "\n",
              "    .dataframe tbody tr th {\n",
              "        vertical-align: top;\n",
              "    }\n",
              "\n",
              "    .dataframe thead th {\n",
              "        text-align: right;\n",
              "    }\n",
              "</style>\n",
              "<table border=\"1\" class=\"dataframe\">\n",
              "  <thead>\n",
              "    <tr style=\"text-align: right;\">\n",
              "      <th></th>\n",
              "      <th>tpep_pickup_datetime</th>\n",
              "      <th>tpep_dropoff_datetime</th>\n",
              "      <th>passenger_count</th>\n",
              "      <th>trip_distance</th>\n",
              "      <th>PULocationID</th>\n",
              "      <th>DOLocationID</th>\n",
              "      <th>payment_type</th>\n",
              "      <th>fare_amount</th>\n",
              "      <th>total_amount</th>\n",
              "    </tr>\n",
              "  </thead>\n",
              "  <tbody>\n",
              "    <tr>\n",
              "      <th>7661000</th>\n",
              "      <td>2019-01-31 23:56:12</td>\n",
              "      <td>2019-02-01 00:19:36</td>\n",
              "      <td>1</td>\n",
              "      <td>10.71</td>\n",
              "      <td>138</td>\n",
              "      <td>17</td>\n",
              "      <td>1</td>\n",
              "      <td>31.5</td>\n",
              "      <td>36.80</td>\n",
              "    </tr>\n",
              "    <tr>\n",
              "      <th>7662100</th>\n",
              "      <td>2019-01-31 23:21:38</td>\n",
              "      <td>2019-01-31 23:38:06</td>\n",
              "      <td>1</td>\n",
              "      <td>5.00</td>\n",
              "      <td>100</td>\n",
              "      <td>166</td>\n",
              "      <td>1</td>\n",
              "      <td>17.0</td>\n",
              "      <td>20.13</td>\n",
              "    </tr>\n",
              "    <tr>\n",
              "      <th>7662600</th>\n",
              "      <td>2019-01-31 23:10:07</td>\n",
              "      <td>2019-01-31 23:18:24</td>\n",
              "      <td>1</td>\n",
              "      <td>5.02</td>\n",
              "      <td>138</td>\n",
              "      <td>93</td>\n",
              "      <td>2</td>\n",
              "      <td>15.0</td>\n",
              "      <td>16.30</td>\n",
              "    </tr>\n",
              "    <tr>\n",
              "      <th>7663400</th>\n",
              "      <td>2019-01-31 23:34:19</td>\n",
              "      <td>2019-01-31 23:44:39</td>\n",
              "      <td>1</td>\n",
              "      <td>3.68</td>\n",
              "      <td>79</td>\n",
              "      <td>262</td>\n",
              "      <td>1</td>\n",
              "      <td>12.0</td>\n",
              "      <td>15.96</td>\n",
              "    </tr>\n",
              "    <tr>\n",
              "      <th>7664600</th>\n",
              "      <td>2019-01-31 23:30:32</td>\n",
              "      <td>2019-02-01 00:00:54</td>\n",
              "      <td>1</td>\n",
              "      <td>9.92</td>\n",
              "      <td>170</td>\n",
              "      <td>260</td>\n",
              "      <td>1</td>\n",
              "      <td>33.0</td>\n",
              "      <td>39.44</td>\n",
              "    </tr>\n",
              "    <tr>\n",
              "      <th>7665000</th>\n",
              "      <td>2019-01-31 23:19:27</td>\n",
              "      <td>2019-01-31 23:36:55</td>\n",
              "      <td>3</td>\n",
              "      <td>5.22</td>\n",
              "      <td>90</td>\n",
              "      <td>74</td>\n",
              "      <td>1</td>\n",
              "      <td>17.5</td>\n",
              "      <td>22.56</td>\n",
              "    </tr>\n",
              "    <tr>\n",
              "      <th>7665900</th>\n",
              "      <td>2019-01-31 23:13:29</td>\n",
              "      <td>2019-01-31 23:28:50</td>\n",
              "      <td>1</td>\n",
              "      <td>5.30</td>\n",
              "      <td>79</td>\n",
              "      <td>74</td>\n",
              "      <td>1</td>\n",
              "      <td>16.5</td>\n",
              "      <td>19.80</td>\n",
              "    </tr>\n",
              "    <tr>\n",
              "      <th>7666000</th>\n",
              "      <td>2019-01-31 23:34:21</td>\n",
              "      <td>2019-02-01 00:25:34</td>\n",
              "      <td>2</td>\n",
              "      <td>12.20</td>\n",
              "      <td>48</td>\n",
              "      <td>36</td>\n",
              "      <td>1</td>\n",
              "      <td>41.5</td>\n",
              "      <td>53.45</td>\n",
              "    </tr>\n",
              "    <tr>\n",
              "      <th>7666400</th>\n",
              "      <td>2019-01-31 23:02:26</td>\n",
              "      <td>2019-01-31 23:24:53</td>\n",
              "      <td>1</td>\n",
              "      <td>7.01</td>\n",
              "      <td>13</td>\n",
              "      <td>151</td>\n",
              "      <td>1</td>\n",
              "      <td>23.5</td>\n",
              "      <td>31.00</td>\n",
              "    </tr>\n",
              "    <tr>\n",
              "      <th>7666700</th>\n",
              "      <td>2019-01-31 23:49:55</td>\n",
              "      <td>2019-02-01 00:02:35</td>\n",
              "      <td>2</td>\n",
              "      <td>8.81</td>\n",
              "      <td>132</td>\n",
              "      <td>93</td>\n",
              "      <td>2</td>\n",
              "      <td>25.0</td>\n",
              "      <td>26.30</td>\n",
              "    </tr>\n",
              "  </tbody>\n",
              "</table>\n",
              "</div>"
            ],
            "text/plain": [
              "        tpep_pickup_datetime tpep_dropoff_datetime  passenger_count  \\\n",
              "7661000  2019-01-31 23:56:12   2019-02-01 00:19:36                1   \n",
              "7662100  2019-01-31 23:21:38   2019-01-31 23:38:06                1   \n",
              "7662600  2019-01-31 23:10:07   2019-01-31 23:18:24                1   \n",
              "7663400  2019-01-31 23:34:19   2019-01-31 23:44:39                1   \n",
              "7664600  2019-01-31 23:30:32   2019-02-01 00:00:54                1   \n",
              "7665000  2019-01-31 23:19:27   2019-01-31 23:36:55                3   \n",
              "7665900  2019-01-31 23:13:29   2019-01-31 23:28:50                1   \n",
              "7666000  2019-01-31 23:34:21   2019-02-01 00:25:34                2   \n",
              "7666400  2019-01-31 23:02:26   2019-01-31 23:24:53                1   \n",
              "7666700  2019-01-31 23:49:55   2019-02-01 00:02:35                2   \n",
              "\n",
              "         trip_distance  PULocationID  DOLocationID  payment_type  fare_amount  \\\n",
              "7661000          10.71           138            17             1         31.5   \n",
              "7662100           5.00           100           166             1         17.0   \n",
              "7662600           5.02           138            93             2         15.0   \n",
              "7663400           3.68            79           262             1         12.0   \n",
              "7664600           9.92           170           260             1         33.0   \n",
              "7665000           5.22            90            74             1         17.5   \n",
              "7665900           5.30            79            74             1         16.5   \n",
              "7666000          12.20            48            36             1         41.5   \n",
              "7666400           7.01            13           151             1         23.5   \n",
              "7666700           8.81           132            93             2         25.0   \n",
              "\n",
              "         total_amount  \n",
              "7661000         36.80  \n",
              "7662100         20.13  \n",
              "7662600         16.30  \n",
              "7663400         15.96  \n",
              "7664600         39.44  \n",
              "7665000         22.56  \n",
              "7665900         19.80  \n",
              "7666000         53.45  \n",
              "7666400         31.00  \n",
              "7666700         26.30  "
            ]
          },
          "execution_count": 29,
          "metadata": {},
          "output_type": "execute_result"
        }
      ],
      "source": [
        "test.tail(10)"
      ]
    },
    {
      "cell_type": "markdown",
      "id": "181105ce",
      "metadata": {
        "id": "181105ce"
      },
      "source": [
        "###  Exercici B\n",
        "\n",
        "+ Escriu una funció que transformi la taula original a una nova taula, més adequada per tal de dur a terme l'exploració necessària. Podeu afegir columnes addicionals, precalcular valors, etc.\n",
        "\n",
        "> Per exemple, podem transformar les dades per treballar amb les unitats de kilòmetres i hores per a representar les durades, distàncies i velocitats del trajecte. El motiu és, per una banda, que estem familiaritzades amb el Sistema Internacional d'Unitats (d'aquí el canvi de milles a km). I per altra, optar pels km i no pels metres degut a l'ordre de magnitud de les dades.\n",
        "\n",
        "> Un cop tenim les dades normalitzades i enriquides hem de pensar en la neteja una altra vegada. Per exemple: Eliminar aquelles files que tinguin velocitat max excedeixi limit permès per llei https://www.speed-limits.com/newyork"
      ]
    },
    {
      "cell_type": "code",
      "execution_count": null,
      "id": "4876b59c",
      "metadata": {
        "id": "4876b59c",
        "tags": []
      },
      "outputs": [],
      "source": [
        "def post_processing(data):\n",
        "    \"\"\"\n",
        "    Funció on implementar qualsevol tipus de postprocessament necessari.\n",
        "    \"\"\"\n",
        "    # AQUÍ EL TEU CODI\n",
        "\n",
        "    return data\n",
        "\n",
        "test = post_processing(test)\n",
        "test.shape"
      ]
    },
    {
      "cell_type": "code",
      "execution_count": null,
      "id": "a1cb68cf-e0b0-48df-97d9-50e889c80646",
      "metadata": {
        "id": "a1cb68cf-e0b0-48df-97d9-50e889c80646"
      },
      "outputs": [],
      "source": [
        "test.tail()"
      ]
    },
    {
      "cell_type": "markdown",
      "id": "2ab042d7",
      "metadata": {
        "id": "2ab042d7"
      },
      "source": [
        "Amb això podem crear un nou dataset (una única taula) que contingui tota la informació dels anys: 2019, 2020, 2021."
      ]
    },
    {
      "cell_type": "code",
      "execution_count": null,
      "id": "3e32168d",
      "metadata": {
        "id": "3e32168d",
        "tags": []
      },
      "outputs": [],
      "source": [
        "df = pd.concat([clean_data(load_table(year, month), year, month)\n",
        "                for year in tqdm(YEARS)\n",
        "                for month in tqdm(range(1, 13), leave = False)],\n",
        "                ignore_index=True, sort=False)\n",
        "df = post_processing(df)\n",
        "df.shape"
      ]
    },
    {
      "cell_type": "code",
      "execution_count": null,
      "id": "3dc0a510",
      "metadata": {
        "id": "3dc0a510"
      },
      "outputs": [],
      "source": [
        "df.head()"
      ]
    },
    {
      "cell_type": "markdown",
      "id": "50fa46a1",
      "metadata": {
        "id": "50fa46a1"
      },
      "source": [
        "## 3. Visualització de dades anuals"
      ]
    },
    {
      "cell_type": "markdown",
      "id": "d33507a6",
      "metadata": {
        "id": "d33507a6"
      },
      "source": [
        "Començarem l'anàlisi de les dades amb la següent pregunta: **S'ha incrementat o ha disminuït amb la covid la quantitat de viatges anuals fets amb taxis?**\n",
        "\n",
        "Per fer-ho, n'hi ha prou amb crear una figura de barres on es visualitzin la quantitat de viatges per any.\n",
        "\n",
        "### Exercici C\n",
        "\n",
        "+ Escriu una funció basada en `matplotlib` que generi aquesta gràfica."
      ]
    },
    {
      "cell_type": "code",
      "execution_count": null,
      "id": "2d1b8b94",
      "metadata": {
        "id": "2d1b8b94"
      },
      "outputs": [],
      "source": [
        "def bar_plot(df, column, xlabel, ylabel, title):\n",
        "    \"\"\"\n",
        "    Funció que crea una figura de barres a partir del dataframe i\n",
        "    la columna que conté la informació\n",
        "    \"\"\"\n",
        "    # AQUÍ EL TEU CODI\n",
        "\n",
        "\n",
        "bar_plot(df,\n",
        "         'year',\n",
        "         'Any',\n",
        "         'Quantitat de viatges',\n",
        "         'Quantitat de viatges per any')"
      ]
    },
    {
      "cell_type": "markdown",
      "id": "b99c9da0-af61-4f67-8d84-b00b1cdb2a36",
      "metadata": {
        "id": "b99c9da0-af61-4f67-8d84-b00b1cdb2a36"
      },
      "source": [
        "+ Visualitza ara en tres gràfiques, el nombre de viatges per mesos de cada any, fent servir la funció anterior."
      ]
    },
    {
      "cell_type": "code",
      "execution_count": null,
      "id": "e7be6355",
      "metadata": {
        "id": "e7be6355"
      },
      "outputs": [],
      "source": [
        "# AQUÍ EL TEU CODI\n"
      ]
    },
    {
      "cell_type": "markdown",
      "id": "a6832559",
      "metadata": {
        "id": "a6832559"
      },
      "source": [
        "+ Pregunta:\n",
        "    + És el comportament que esperàveu? Explica la teva interpretació de les dades tenint en compte el que va passar al món durant aquests anys."
      ]
    },
    {
      "cell_type": "markdown",
      "id": "4fd24054",
      "metadata": {
        "id": "4fd24054"
      },
      "source": [
        "> Resposta\n"
      ]
    },
    {
      "cell_type": "markdown",
      "id": "9794e190",
      "metadata": {
        "id": "9794e190"
      },
      "source": [
        "+ Visualitza **quants passatgers hi ha per taxi i per any**. Crea una figura **amb tres subfigures** (una per any) on es pugui veure el recompte de passatgers per any. Després repetiu el mateix gràfic visualitzant el % enlloc dels nombres ababsoluts (utilitzeu el paràmetre *norm = True*)."
      ]
    },
    {
      "cell_type": "code",
      "execution_count": null,
      "id": "1a3093d3",
      "metadata": {
        "id": "1a3093d3"
      },
      "outputs": [],
      "source": [
        "def passengers_taxi_year(df, ylim, xlabel, ylabel, title, norm = False):\n",
        "    \"\"\"\n",
        "    Funció que visualitza quants passatgers hi ha per taxi i per any\n",
        "    \"\"\"\n",
        "\n",
        "    # AQUÍ EL TEU CODI\n",
        "\n",
        "passengers_taxi_year(df,\n",
        "                     (0, 60000),\n",
        "                     'Nombre de passatgers',\n",
        "                     'Recompte de passatgers',\n",
        "                     'Recompte de passatgers per any')"
      ]
    },
    {
      "cell_type": "code",
      "execution_count": null,
      "id": "efca9289",
      "metadata": {
        "id": "efca9289",
        "tags": []
      },
      "outputs": [],
      "source": [
        "# AQUÍ EL TEU CODI\n"
      ]
    },
    {
      "cell_type": "markdown",
      "id": "a8871d2c",
      "metadata": {
        "id": "a8871d2c"
      },
      "source": [
        "+ Com descriurieu de forma **qualitativa** l'efecte de la covid sobre els taxis en base a l'anàlisi fet fins ara?\n",
        "+ Podeu calcular de forma **quantitativa** la magnitud dels canvis que heu detectat? Escriviu una funció que calculi una sèrie d'indicadors quantitatius (per exemple, quin canvi percentual hi ha en el nombre de viatges d'una sola persona, la mitja de passatgers per viatge, etc.)."
      ]
    },
    {
      "cell_type": "markdown",
      "id": "22ffb557",
      "metadata": {
        "id": "22ffb557"
      },
      "source": [
        "> Respostes"
      ]
    },
    {
      "cell_type": "code",
      "execution_count": null,
      "id": "0d34f17a",
      "metadata": {
        "id": "0d34f17a"
      },
      "outputs": [],
      "source": [
        "# AQUÍ EL TEU CODI\n"
      ]
    },
    {
      "cell_type": "markdown",
      "id": "f7e15df4",
      "metadata": {
        "id": "f7e15df4"
      },
      "source": [
        "> Resposta:"
      ]
    },
    {
      "cell_type": "markdown",
      "id": "15192e92",
      "metadata": {
        "id": "15192e92"
      },
      "source": [
        "## 4. Quantitat de viatges\n",
        "\n",
        "Fins ara hem vist la quantitat de viatges que hi ha hagut a nivell de mesos i anys.\n",
        "\n",
        "Ara podem estudiar l'efecte de la covid en el nombre de trajectes si **agreguem** les dades per hores, dies de la setmana, setmanes de l'any, etc.\n",
        "\n",
        "### Exercici D\n",
        "\n",
        "+ Escriu una única funció genèrica que visualitzi el nombre de trajectes per les agregacions de dades comentades i per cada any. Fes servir gràfics de línies discontínues (una línia per cada any) per veure'n l'evolució i marca amb una rodona o creu allà on està el valor."
      ]
    },
    {
      "cell_type": "code",
      "execution_count": null,
      "id": "a7600c12",
      "metadata": {
        "id": "a7600c12"
      },
      "outputs": [],
      "source": [
        "def visualize_trips(df, columns, title, xlabel, ylabel):\n",
        "    \"\"\"\n",
        "    Funció que visualitza els viatges per diferents agregacions de dades\n",
        "    \"\"\"\n",
        "\n",
        "    # AQUÍ EL TEU CODI\n",
        "\n",
        "\n",
        "visualize_trips(df,\n",
        "                ['pickup_hour', 'dropoff_hour'],\n",
        "                title = 'Quantitat de viatges per hora',\n",
        "                xlabel = 'Hora del dia', ylabel = 'Quantitat')"
      ]
    },
    {
      "cell_type": "code",
      "execution_count": null,
      "id": "07029682",
      "metadata": {
        "id": "07029682",
        "tags": []
      },
      "outputs": [],
      "source": [
        "visualize_trips(df,\n",
        "                ['pickup_day', 'dropoff_day'],\n",
        "                title = 'Quantitat de viatges per dia de la setmana',\n",
        "                xlabel = 'Dia de la setmana',\n",
        "                ylabel = 'Quantitat')"
      ]
    },
    {
      "cell_type": "code",
      "execution_count": null,
      "id": "e5dc11a6",
      "metadata": {
        "id": "e5dc11a6",
        "tags": []
      },
      "outputs": [],
      "source": [
        "visualize_trips(df,\n",
        "                ['pickup_week', 'dropoff_week'],\n",
        "                title = 'Quantitat de viatges per setmana de l\\'any',\n",
        "                xlabel = 'Setmana de l\\'any',\n",
        "                ylabel = 'Quanitat')"
      ]
    },
    {
      "cell_type": "markdown",
      "id": "5a5c0cf9",
      "metadata": {
        "id": "5a5c0cf9"
      },
      "source": [
        "+ Com descriurieu l'efecte de la covid en cada cas (si és que en té)? Quin creieu que és el motiu?"
      ]
    },
    {
      "cell_type": "markdown",
      "id": "a9897a2a",
      "metadata": {
        "id": "a9897a2a"
      },
      "source": [
        "> Resposta:\n"
      ]
    },
    {
      "cell_type": "markdown",
      "id": "3878afdf",
      "metadata": {
        "id": "3878afdf"
      },
      "source": [
        "## 5. Relació distancia, temps i velocitat\n",
        "\n",
        "A les dades tenim la **distància** que ha recorregut el taxi en cada viatge i de la informació temporal podem extreure també la **durada** d'aquest.\n",
        "\n",
        "Ara explorarem com la covid va afectar les distàncies i les durades dels viatges, i també la velocitat dels taxis. També ens preguntarem si la densitat de trànsit va variar."
      ]
    },
    {
      "cell_type": "markdown",
      "id": "c3911075",
      "metadata": {
        "id": "c3911075"
      },
      "source": [
        "### Exercici E\n",
        "\n",
        "+ Per començar, escriu una funció que visualitzi els **histogrames** de distància i durada per any."
      ]
    },
    {
      "cell_type": "code",
      "execution_count": null,
      "id": "de3b0854",
      "metadata": {
        "id": "de3b0854"
      },
      "outputs": [],
      "source": [
        "def visualize_histograms(df, column, title, xlabel, ylabel, xlim):\n",
        "    \"\"\"\n",
        "    Funció que crea un histograma a partir de la informació que conté la columna del dataframe\n",
        "    \"\"\"\n",
        "\n",
        "    # AQUÍ EL TEU CODI\n",
        "\n",
        "\n",
        "visualize_histograms(df, 'trip_distance', title = 'Distància dels viatge per any',\n",
        "                     xlabel = 'Distància (km)', ylabel = 'Quantitat', xlim = (-5, 80))\n",
        "\n",
        "visualize_histograms(df, 'trip_duration', title = 'Durada dels viatges per any',\n",
        "                     xlabel = 'Durada (h)', ylabel = 'Quantitat', xlim = (-1, 25) )\n",
        "\n",
        "visualize_histograms(df, 'speed', title = 'Velocitat dels viatge per any',\n",
        "                     xlabel = 'Velocitat (Km/h)', ylabel = 'Quanitat', xlim = (-1, 25) )"
      ]
    },
    {
      "cell_type": "markdown",
      "id": "8111f857",
      "metadata": {
        "id": "8111f857"
      },
      "source": [
        "* Com creieu que la covid va afectar les distàncies i durades dels viatges?\n",
        "\n",
        "* I a la velocitat dels taxis?"
      ]
    },
    {
      "cell_type": "markdown",
      "id": "fd7a161a",
      "metadata": {
        "id": "fd7a161a"
      },
      "source": [
        "> Resposta:\n"
      ]
    },
    {
      "cell_type": "markdown",
      "id": "0NoYA-2pRuFk",
      "metadata": {
        "id": "0NoYA-2pRuFk"
      },
      "source": [
        "+ Pregunta:\n",
        "\n",
        "https://data.cityofnewyork.us/Transportation/NYC-Taxi-Zones/d3c5-ddgc\n",
        "\n",
        "+ Utilitzant el DataFrame, escriu una funció que identifiqui les cinc ubicacions de recollida (PULocationID) més freqüents.\n",
        "+ Per a aquestes cinc ubicacions de recollida, calcula el nombre mitjà de passatgers (passenger_count) per trajecte.\n",
        "+ Filtra els trajectes on la ubicació de recollida i de deixada són la mateixa (PULocationID == DOLocationID). Calcula el percentatge d'aquests trajectes respecte al total de trajectes."
      ]
    },
    {
      "cell_type": "code",
      "execution_count": null,
      "id": "gJKQFxgkRutU",
      "metadata": {
        "id": "gJKQFxgkRutU"
      },
      "outputs": [],
      "source": [
        "def analyze_pickup_dropoff_locations(df):\n",
        "\n",
        "    # AQUÍ EL TEU CODI\n",
        "\n",
        "analyze_pickup_dropoff_locations(df)"
      ]
    }
  ],
  "metadata": {
    "colab": {
      "provenance": []
    },
    "kernelspec": {
      "display_name": "base",
      "language": "python",
      "name": "python3"
    },
    "language_info": {
      "codemirror_mode": {
        "name": "ipython",
        "version": 3
      },
      "file_extension": ".py",
      "mimetype": "text/x-python",
      "name": "python",
      "nbconvert_exporter": "python",
      "pygments_lexer": "ipython3",
      "version": "3.12.7"
    }
  },
  "nbformat": 4,
  "nbformat_minor": 5
}
