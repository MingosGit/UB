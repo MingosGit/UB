{
  "cells": [
    {
      "cell_type": "markdown",
      "metadata": {
        "id": "6CpT80PzCYsn"
      },
      "source": [
        "## Recordatori de Python"
      ]
    },
    {
      "cell_type": "markdown",
      "metadata": {
        "id": "4Rnk92WgCYsq"
      },
      "source": [
        "#### Enumerate"
      ]
    },
    {
      "cell_type": "code",
      "execution_count": 1,
      "metadata": {
        "colab": {
          "base_uri": "https://localhost:8080/"
        },
        "id": "O86pT-2SCYsr",
        "outputId": "eae1f5c7-c091-4996-e07e-b58f845d59ec"
      },
      "outputs": [
        {
          "name": "stdout",
          "output_type": "stream",
          "text": [
            "0 a\n",
            "1 b\n",
            "2 c\n"
          ]
        }
      ],
      "source": [
        "for a,b in enumerate(['a','b','c']):\n",
        "    print(a,b)"
      ]
    },
    {
      "cell_type": "markdown",
      "metadata": {
        "id": "oob2K5NXCYst"
      },
      "source": [
        "#### zip"
      ]
    },
    {
      "cell_type": "code",
      "execution_count": null,
      "metadata": {
        "colab": {
          "base_uri": "https://localhost:8080/"
        },
        "id": "Q7timHkhCYsu",
        "outputId": "f37c49ac-30e6-4ff8-c037-216fbf6e53b7"
      },
      "outputs": [
        {
          "name": "stdout",
          "output_type": "stream",
          "text": [
            "(1, 3)\n",
            "(2, 4)\n",
            "(3, 5)\n"
          ]
        },
        {
          "ename": "",
          "evalue": "",
          "output_type": "error",
          "traceback": [
            "\u001b[1;31mnotebook controller is DISPOSED. \n",
            "\u001b[1;31mView Jupyter <a href='command:jupyter.viewOutput'>log</a> for further details."
          ]
        },
        {
          "ename": "",
          "evalue": "",
          "output_type": "error",
          "traceback": [
            "\u001b[1;31mnotebook controller is DISPOSED. \n",
            "\u001b[1;31mView Jupyter <a href='command:jupyter.viewOutput'>log</a> for further details."
          ]
        },
        {
          "ename": "",
          "evalue": "",
          "output_type": "error",
          "traceback": [
            "\u001b[1;31mnotebook controller is DISPOSED. \n",
            "\u001b[1;31mView Jupyter <a href='command:jupyter.viewOutput'>log</a> for further details."
          ]
        },
        {
          "ename": "",
          "evalue": "",
          "output_type": "error",
          "traceback": [
            "\u001b[1;31mnotebook controller is DISPOSED. \n",
            "\u001b[1;31mView Jupyter <a href='command:jupyter.viewOutput'>log</a> for further details."
          ]
        },
        {
          "ename": "",
          "evalue": "",
          "output_type": "error",
          "traceback": [
            "\u001b[1;31mnotebook controller is DISPOSED. \n",
            "\u001b[1;31mView Jupyter <a href='command:jupyter.viewOutput'>log</a> for further details."
          ]
        },
        {
          "ename": "",
          "evalue": "",
          "output_type": "error",
          "traceback": [
            "\u001b[1;31mnotebook controller is DISPOSED. \n",
            "\u001b[1;31mView Jupyter <a href='command:jupyter.viewOutput'>log</a> for further details."
          ]
        }
      ],
      "source": [
        "for i in zip([1,2,3],[3,4,5,6]):\n",
        "    print(i)"
      ]
    },
    {
      "cell_type": "markdown",
      "metadata": {
        "id": "a9oF2Z6SCYsx"
      },
      "source": [
        "## Descens del gradient d'una funció qualsevol\n",
        "\n",
        "Suposem que tenim una funcio $f(\\mathbf v) = \\sum_{i=1}^n v_i^2$ que té per argument un vector de nombres reals $\\mathbf v = (v_1, \\dots, v_n)$ i que té com a sortida un únic nombre real:"
      ]
    },
    {
      "cell_type": "code",
      "execution_count": null,
      "metadata": {
        "colab": {
          "base_uri": "https://localhost:8080/"
        },
        "id": "N-J90TmeCYsx",
        "outputId": "ee589986-aa99-4f90-e0c7-0b8b14ac0a36"
      },
      "outputs": [
        {
          "data": {
            "text/plain": [
              "12"
            ]
          },
          "execution_count": 3,
          "metadata": {},
          "output_type": "execute_result"
        },
        {
          "ename": "",
          "evalue": "",
          "output_type": "error",
          "traceback": [
            "\u001b[1;31mnotebook controller is DISPOSED. \n",
            "\u001b[1;31mView Jupyter <a href='command:jupyter.viewOutput'>log</a> for further details."
          ]
        },
        {
          "ename": "",
          "evalue": "",
          "output_type": "error",
          "traceback": [
            "\u001b[1;31mnotebook controller is DISPOSED. \n",
            "\u001b[1;31mView Jupyter <a href='command:jupyter.viewOutput'>log</a> for further details."
          ]
        },
        {
          "ename": "",
          "evalue": "",
          "output_type": "error",
          "traceback": [
            "\u001b[1;31mnotebook controller is DISPOSED. \n",
            "\u001b[1;31mView Jupyter <a href='command:jupyter.viewOutput'>log</a> for further details."
          ]
        },
        {
          "ename": "",
          "evalue": "",
          "output_type": "error",
          "traceback": [
            "\u001b[1;31mnotebook controller is DISPOSED. \n",
            "\u001b[1;31mView Jupyter <a href='command:jupyter.viewOutput'>log</a> for further details."
          ]
        },
        {
          "ename": "",
          "evalue": "",
          "output_type": "error",
          "traceback": [
            "\u001b[1;31mnotebook controller is DISPOSED. \n",
            "\u001b[1;31mView Jupyter <a href='command:jupyter.viewOutput'>log</a> for further details."
          ]
        },
        {
          "ename": "",
          "evalue": "",
          "output_type": "error",
          "traceback": [
            "\u001b[1;31mnotebook controller is DISPOSED. \n",
            "\u001b[1;31mView Jupyter <a href='command:jupyter.viewOutput'>log</a> for further details."
          ]
        }
      ],
      "source": [
        "def suma_de_quadrats(v):\n",
        "    return sum([v_i ** 2 for v_i in v])\n",
        "\n",
        "suma_de_quadrats([2,2,2])"
      ]
    },
    {
      "cell_type": "markdown",
      "metadata": {
        "id": "s7-pUrJ_CYsy"
      },
      "source": [
        "L'objectiu és calcular el **paràmetre** $\\mathbf{v}$ que maximitza o minimitza aquesta funció, o el que és el mateix, la $\\mathbf{v}$ que produeix el valor més alt o més baix possible de $f$.\n",
        "\n",
        "Però abans de veure com fer això amb una funció de varies variables, mirem com ho fariem amb una funció d'una variable."
      ]
    },
    {
      "cell_type": "markdown",
      "metadata": {
        "id": "pzquqDCtCYsy"
      },
      "source": [
        "### De les derivades al gradient\n",
        "\n",
        "Si $f$ és una funció d'una sola variable, la **derivada** de $f$ a un punt $x$ mesura la variació de la funció quan fem un petit canvi a la $x$, i es defineix com el límit de la diferència de dos quocients:\n",
        "\n",
        "$$ \\lim_{h \\rightarrow 0} \\frac{f(x + h) - f(x)}{h} $$"
      ]
    },
    {
      "cell_type": "markdown",
      "metadata": {},
      "source": [
        "h Siempre ha de ser muy cercana a 0, pero no es realmente necesario que sea identico o demasiado pqueño, revisar."
      ]
    },
    {
      "cell_type": "code",
      "execution_count": null,
      "metadata": {
        "colab": {
          "base_uri": "https://localhost:8080/"
        },
        "id": "i2rw8dkXCYsy",
        "outputId": "0e68d816-824d-4d2e-8d17-f506cd1d2d8b"
      },
      "outputs": [
        {
          "data": {
            "text/plain": [
              "4.0"
            ]
          },
          "execution_count": 4,
          "metadata": {},
          "output_type": "execute_result"
        },
        {
          "ename": "",
          "evalue": "",
          "output_type": "error",
          "traceback": [
            "\u001b[1;31mnotebook controller is DISPOSED. \n",
            "\u001b[1;31mView Jupyter <a href='command:jupyter.viewOutput'>log</a> for further details."
          ]
        },
        {
          "ename": "",
          "evalue": "",
          "output_type": "error",
          "traceback": [
            "\u001b[1;31mnotebook controller is DISPOSED. \n",
            "\u001b[1;31mView Jupyter <a href='command:jupyter.viewOutput'>log</a> for further details."
          ]
        },
        {
          "ename": "",
          "evalue": "",
          "output_type": "error",
          "traceback": [
            "\u001b[1;31mnotebook controller is DISPOSED. \n",
            "\u001b[1;31mView Jupyter <a href='command:jupyter.viewOutput'>log</a> for further details."
          ]
        },
        {
          "ename": "",
          "evalue": "",
          "output_type": "error",
          "traceback": [
            "\u001b[1;31mnotebook controller is DISPOSED. \n",
            "\u001b[1;31mView Jupyter <a href='command:jupyter.viewOutput'>log</a> for further details."
          ]
        },
        {
          "ename": "",
          "evalue": "",
          "output_type": "error",
          "traceback": [
            "\u001b[1;31mnotebook controller is DISPOSED. \n",
            "\u001b[1;31mView Jupyter <a href='command:jupyter.viewOutput'>log</a> for further details."
          ]
        },
        {
          "ename": "",
          "evalue": "",
          "output_type": "error",
          "traceback": [
            "\u001b[1;31mnotebook controller is DISPOSED. \n",
            "\u001b[1;31mView Jupyter <a href='command:jupyter.viewOutput'>log</a> for further details."
          ]
        }
      ],
      "source": [
        "import math\n",
        "\n",
        "def truncate(number, decimals=0):\n",
        "    \"\"\"\n",
        "    Returns a value truncated to a specific number of decimal places.\n",
        "    \"\"\"\n",
        "    if not isinstance(decimals, int):\n",
        "        raise TypeError(\"decimal places must be an integer.\")\n",
        "    elif decimals < 0:\n",
        "        raise ValueError(\"decimal places has to be 0 or more.\")\n",
        "    elif decimals == 0:\n",
        "        return math.trunc(number)\n",
        "\n",
        "    factor = 10.0 ** decimals\n",
        "    return math.trunc(number * factor) / factor\n",
        "\n",
        "def quadrat(x):\n",
        "    return x*x\n",
        "\n",
        "def dif_quo(x, f=quadrat, h=1e-6):\n",
        "    return truncate((f(x+h) - f(x))/h, 5)\n",
        "\n",
        "dif_quo(2.0, quadrat)"
      ]
    },
    {
      "cell_type": "markdown",
      "metadata": {
        "id": "rkXGRGSDCYsz"
      },
      "source": [
        "Hi ha moltes funcions de les quals poden calcular la derivada analíticament, com per exemple $x^2$:"
      ]
    },
    {
      "cell_type": "code",
      "execution_count": null,
      "metadata": {
        "colab": {
          "base_uri": "https://localhost:8080/"
        },
        "id": "AI0lXx6ACYsz",
        "outputId": "9112b077-92e7-4f07-e71f-e83ecd1967e4"
      },
      "outputs": [
        {
          "data": {
            "text/plain": [
              "4.0"
            ]
          },
          "execution_count": 5,
          "metadata": {},
          "output_type": "execute_result"
        },
        {
          "ename": "",
          "evalue": "",
          "output_type": "error",
          "traceback": [
            "\u001b[1;31mnotebook controller is DISPOSED. \n",
            "\u001b[1;31mView Jupyter <a href='command:jupyter.viewOutput'>log</a> for further details."
          ]
        },
        {
          "ename": "",
          "evalue": "",
          "output_type": "error",
          "traceback": [
            "\u001b[1;31mnotebook controller is DISPOSED. \n",
            "\u001b[1;31mView Jupyter <a href='command:jupyter.viewOutput'>log</a> for further details."
          ]
        },
        {
          "ename": "",
          "evalue": "",
          "output_type": "error",
          "traceback": [
            "\u001b[1;31mnotebook controller is DISPOSED. \n",
            "\u001b[1;31mView Jupyter <a href='command:jupyter.viewOutput'>log</a> for further details."
          ]
        },
        {
          "ename": "",
          "evalue": "",
          "output_type": "error",
          "traceback": [
            "\u001b[1;31mnotebook controller is DISPOSED. \n",
            "\u001b[1;31mView Jupyter <a href='command:jupyter.viewOutput'>log</a> for further details."
          ]
        },
        {
          "ename": "",
          "evalue": "",
          "output_type": "error",
          "traceback": [
            "\u001b[1;31mnotebook controller is DISPOSED. \n",
            "\u001b[1;31mView Jupyter <a href='command:jupyter.viewOutput'>log</a> for further details."
          ]
        },
        {
          "ename": "",
          "evalue": "",
          "output_type": "error",
          "traceback": [
            "\u001b[1;31mnotebook controller is DISPOSED. \n",
            "\u001b[1;31mView Jupyter <a href='command:jupyter.viewOutput'>log</a> for further details."
          ]
        }
      ],
      "source": [
        "def d_a_quadrat(x):\n",
        "    # la derivada de x**2 és 2*x\n",
        "    return 2*x\n",
        "\n",
        "d_a_quadrat(2.0)"
      ]
    },
    {
      "cell_type": "code",
      "execution_count": null,
      "metadata": {
        "colab": {
          "base_uri": "https://localhost:8080/",
          "height": 692
        },
        "id": "QT-DOvvHCYsz",
        "outputId": "0aaf8429-e82d-4b4a-fc43-b571b12c3f4b"
      },
      "outputs": [
        {
          "data": {
            "image/png": "[encoded data removed]",
            "text/plain": [
              "<Figure size 1200x600 with 1 Axes>"
            ]
          },
          "metadata": {},
          "output_type": "display_data"
        },
        {
          "ename": "",
          "evalue": "",
          "output_type": "error",
          "traceback": [
            "\u001b[1;31mnotebook controller is DISPOSED. \n",
            "\u001b[1;31mView Jupyter <a href='command:jupyter.viewOutput'>log</a> for further details."
          ]
        },
        {
          "ename": "",
          "evalue": "",
          "output_type": "error",
          "traceback": [
            "\u001b[1;31mnotebook controller is DISPOSED. \n",
            "\u001b[1;31mView Jupyter <a href='command:jupyter.viewOutput'>log</a> for further details."
          ]
        },
        {
          "ename": "",
          "evalue": "",
          "output_type": "error",
          "traceback": [
            "\u001b[1;31mnotebook controller is DISPOSED. \n",
            "\u001b[1;31mView Jupyter <a href='command:jupyter.viewOutput'>log</a> for further details."
          ]
        },
        {
          "ename": "",
          "evalue": "",
          "output_type": "error",
          "traceback": [
            "\u001b[1;31mnotebook controller is DISPOSED. \n",
            "\u001b[1;31mView Jupyter <a href='command:jupyter.viewOutput'>log</a> for further details."
          ]
        },
        {
          "ename": "",
          "evalue": "",
          "output_type": "error",
          "traceback": [
            "\u001b[1;31mnotebook controller is DISPOSED. \n",
            "\u001b[1;31mView Jupyter <a href='command:jupyter.viewOutput'>log</a> for further details."
          ]
        },
        {
          "ename": "",
          "evalue": "",
          "output_type": "error",
          "traceback": [
            "\u001b[1;31mnotebook controller is DISPOSED. \n",
            "\u001b[1;31mView Jupyter <a href='command:jupyter.viewOutput'>log</a> for further details."
          ]
        }
      ],
      "source": [
        "import matplotlib.pyplot as plt\n",
        "import numpy as np\n",
        "%matplotlib inline\n",
        "\n",
        "font1 = {'family': 'serif',\n",
        "        'color':  'darkred',\n",
        "        'weight': 'normal',\n",
        "        'size': 14,\n",
        "        }\n",
        "\n",
        "font2 = {'family': 'serif',\n",
        "        'color':  'darkgreen',\n",
        "        'weight': 'normal',\n",
        "        'size': 14,\n",
        "        }\n",
        "\n",
        "x = np.linspace(-2,2, 100)\n",
        "f = [i**2 for i in x]\n",
        "df = [2*i for i in x]\n",
        "plt.text(0.2, -0.8, r'$x^2$', fontdict=font1)\n",
        "plt.text(0.6, 2.0, r'$2x$', fontdict=font2)\n",
        "plt.plot(x,f, 'r-')\n",
        "plt.plot(x,df, 'g-')\n",
        "plt.gcf().set_size_inches((12,6))\n",
        "plt.grid()\n",
        "plt.show()"
      ]
    },
    {
      "cell_type": "markdown",
      "metadata": {
        "id": "SS-_jgAWCYsz"
      },
      "source": [
        "**Però que hem de fer quan no tenim una fòrmula analítica per la derivada?**\n",
        "\n",
        "Doncs no queda més remei que usar l'aproximació de la diferència de quocients!\n",
        "\n",
        "Si el pas és prou petit no notarem la diferència, tot i que el concepte \"prou petit\" és una mica indefinit: la funció pot variar molt en qualsevol interval i pot requerir una $h$ diferent per zones diferents."
      ]
    },
    {
      "cell_type": "markdown",
      "metadata": {
        "id": "_SvKdt1ZtJaA"
      },
      "source": [
        "**Perquè és útil la derivada per optimitzar una funció?**\n",
        "\n",
        "La derivada d'una funció proporciona informació sobre com canvia la funció en un punt determinat.\n",
        "\n",
        "+ Els màxims i mínims d'una funció corresponen als punts on la seva derivada s'anul·la. Això és essencial per optimitzar funcions, ja que sovint estem interessats en trobar els valors màxims o mínims d'una funció en un cert domini.\n",
        "\n",
        "+ La derivada també proporciona informació sobre la pendent d'una funció en un punt concret. En l'optimització, és crucial entendre com canvia la funció en diferents punts, i la derivada ens diu si la funció està augmentant o disminuint en aquest punt."
      ]
    },
    {
      "cell_type": "markdown",
      "metadata": {
        "id": "TCII1boFCYs0"
      },
      "source": [
        "### Gradient\n",
        "\n",
        "Quan $f$ és una funció de varies variables, té varies derivades parcials, cada una de les quals indica com varia $f$ quan fem un petit canvi en la variable corresponent.\n",
        "\n",
        "La derivada parcial respecte a una variable es pot calcular considerant només canvis en aquella variable i mantenint la resta constants:"
      ]
    },
    {
      "cell_type": "code",
      "execution_count": null,
      "metadata": {
        "id": "NaFPvrLkCYs0"
      },
      "outputs": [
        {
          "ename": "",
          "evalue": "",
          "output_type": "error",
          "traceback": [
            "\u001b[1;31mnotebook controller is DISPOSED. \n",
            "\u001b[1;31mView Jupyter <a href='command:jupyter.viewOutput'>log</a> for further details."
          ]
        },
        {
          "ename": "",
          "evalue": "",
          "output_type": "error",
          "traceback": [
            "\u001b[1;31mnotebook controller is DISPOSED. \n",
            "\u001b[1;31mView Jupyter <a href='command:jupyter.viewOutput'>log</a> for further details."
          ]
        },
        {
          "ename": "",
          "evalue": "",
          "output_type": "error",
          "traceback": [
            "\u001b[1;31mnotebook controller is DISPOSED. \n",
            "\u001b[1;31mView Jupyter <a href='command:jupyter.viewOutput'>log</a> for further details."
          ]
        },
        {
          "ename": "",
          "evalue": "",
          "output_type": "error",
          "traceback": [
            "\u001b[1;31mnotebook controller is DISPOSED. \n",
            "\u001b[1;31mView Jupyter <a href='command:jupyter.viewOutput'>log</a> for further details."
          ]
        },
        {
          "ename": "",
          "evalue": "",
          "output_type": "error",
          "traceback": [
            "\u001b[1;31mnotebook controller is DISPOSED. \n",
            "\u001b[1;31mView Jupyter <a href='command:jupyter.viewOutput'>log</a> for further details."
          ]
        },
        {
          "ename": "",
          "evalue": "",
          "output_type": "error",
          "traceback": [
            "\u001b[1;31mnotebook controller is DISPOSED. \n",
            "\u001b[1;31mView Jupyter <a href='command:jupyter.viewOutput'>log</a> for further details."
          ]
        }
      ],
      "source": [
        "def dif_quo_parcial(v, f, i, h=1e-6):\n",
        "    w = [v_j + (h if j==i else 0) for j, v_j in enumerate(v)]\n",
        "    return truncate((f(w) - f(v))/h)"
      ]
    },
    {
      "cell_type": "markdown",
      "metadata": {
        "id": "U1FRN4_SCYs0"
      },
      "source": [
        "El **gradient** de la funció $f$, que és un vector format per les derivades parcials de la funció, ens dóna la **direcció en la qual la funció creix més ràpidament**.\n",
        "\n",
        "$$\\nabla {f} = (\\frac{\\partial f}{\\partial v_1}, \\dots, \\frac{\\partial f}{\\partial v_n})$$"
      ]
    },
    {
      "cell_type": "code",
      "execution_count": null,
      "metadata": {
        "colab": {
          "base_uri": "https://localhost:8080/"
        },
        "id": "D55MBmaeCYs0",
        "outputId": "69c7b06b-77fc-4b34-eed8-744bb8cdd1fd"
      },
      "outputs": [
        {
          "name": "stdout",
          "output_type": "stream",
          "text": [
            "12 [4, 4, 4]\n"
          ]
        },
        {
          "ename": "",
          "evalue": "",
          "output_type": "error",
          "traceback": [
            "\u001b[1;31mnotebook controller is DISPOSED. \n",
            "\u001b[1;31mView Jupyter <a href='command:jupyter.viewOutput'>log</a> for further details."
          ]
        },
        {
          "ename": "",
          "evalue": "",
          "output_type": "error",
          "traceback": [
            "\u001b[1;31mnotebook controller is DISPOSED. \n",
            "\u001b[1;31mView Jupyter <a href='command:jupyter.viewOutput'>log</a> for further details."
          ]
        },
        {
          "ename": "",
          "evalue": "",
          "output_type": "error",
          "traceback": [
            "\u001b[1;31mnotebook controller is DISPOSED. \n",
            "\u001b[1;31mView Jupyter <a href='command:jupyter.viewOutput'>log</a> for further details."
          ]
        },
        {
          "ename": "",
          "evalue": "",
          "output_type": "error",
          "traceback": [
            "\u001b[1;31mnotebook controller is DISPOSED. \n",
            "\u001b[1;31mView Jupyter <a href='command:jupyter.viewOutput'>log</a> for further details."
          ]
        },
        {
          "ename": "",
          "evalue": "",
          "output_type": "error",
          "traceback": [
            "\u001b[1;31mnotebook controller is DISPOSED. \n",
            "\u001b[1;31mView Jupyter <a href='command:jupyter.viewOutput'>log</a> for further details."
          ]
        },
        {
          "ename": "",
          "evalue": "",
          "output_type": "error",
          "traceback": [
            "\u001b[1;31mnotebook controller is DISPOSED. \n",
            "\u001b[1;31mView Jupyter <a href='command:jupyter.viewOutput'>log</a> for further details."
          ]
        }
      ],
      "source": [
        "def gradient(v, f, h=1e-6):\n",
        "    return[dif_quo_parcial(v,f,i,h) for i,_ in enumerate(v)]\n",
        "\n",
        "def f(v):\n",
        "    return sum(v_i**2 for v_i in v)\n",
        "\n",
        "v = [2,2,2]\n",
        "print(f(v), gradient(v,f))"
      ]
    },
    {
      "cell_type": "markdown",
      "metadata": {
        "id": "qho2sFyuCYs1"
      },
      "source": [
        "## Optimització\n",
        "\n",
        "### Algorisme de  Nelder-Mead\n",
        "La forma més simple de trobar el mínim d'una funció és l'**algorisme de Nelder-Mead**: http://www.benfrederickson.com/numerical-optimization/\n",
        "\n",
        "Aquest algorisme té com a principal limitació el nombre d'avaluacions que s'han de fer de la funció a cada pas. Com més dimensions té la funció, més avaluacions hem de fer! Això és un limitació molt gran quan treballem amb funcions de moltes dimensions!\n",
        "\n",
        "### Algorisme de descens del gradient\n",
        "\n",
        "Una estratègia alternativa per **minimitzar** una funció és repetir la següent estratègia (**algorisme de descens del gradient**):\n",
        "\n",
        "+ Col·locar-se en una solució potencial aleatòria (un valor aleatori de $\\mathbf{v}$)\n",
        "+ Calcular el vector gradient en aquell punt.\n",
        "+ Fer un petit pas (variar el valor de $\\mathbf{v}$) en la direcció (*contraria*) del vector gradient.\n",
        "\n",
        "La condición de parada suele ser con una tolerancia.\n",
        "\n",
        "La cerca s'acaba quan el vector gradient és zero (o molt petit) o quan el canvi en el valor de $f$ és molt petit. En aquests casos, presumiblement hem trobat un mínim.\n",
        "\n",
        "Si la funció és unimodal (conté un únic mínim), hem trobat **la** nostra solució. Sinó, pot ser que estem en un mínim local que no sigui global.\n",
        "\n",
        "En general, per funcions multimodals d'alta dimensió, és impossible saber si el mínim que hem trobat és el mínim global."
      ]
    },
    {
      "cell_type": "markdown",
      "metadata": {
        "id": "D9Zr92uDCYs1"
      },
      "source": [
        "### Com utilitzar el gradient\n",
        "\n",
        "És fàcil veure que la funció *suma de quadrats*, $\\sum_i v_i^2$, pren el seu mínim valor quan totes les $v$ són 0.\n",
        "\n",
        "Anem a comprovar-ho pel cas de dimensió 3. Per fer-ho, encara ens cal una funció que varii el valor de $\\mathbf v$ en la direcció contrària del gradient, que anomenarem ``pas``:\n",
        "\n",
        "Paso: Es el valor que has de sumar o restar algo a las variables :)\n",
        "Cuanto más grande el paso, peor, dará números muy grandes y petará. Mejor algo pequeño aunque tarde más."
      ]
    },
    {
      "cell_type": "code",
      "execution_count": null,
      "metadata": {
        "collapsed": true,
        "id": "LEWmVBBgCYs1",
        "jupyter": {
          "outputs_hidden": true
        }
      },
      "outputs": [
        {
          "ename": "",
          "evalue": "",
          "output_type": "error",
          "traceback": [
            "\u001b[1;31mnotebook controller is DISPOSED. \n",
            "\u001b[1;31mView Jupyter <a href='command:jupyter.viewOutput'>log</a> for further details."
          ]
        },
        {
          "ename": "",
          "evalue": "",
          "output_type": "error",
          "traceback": [
            "\u001b[1;31mnotebook controller is DISPOSED. \n",
            "\u001b[1;31mView Jupyter <a href='command:jupyter.viewOutput'>log</a> for further details."
          ]
        },
        {
          "ename": "",
          "evalue": "",
          "output_type": "error",
          "traceback": [
            "\u001b[1;31mnotebook controller is DISPOSED. \n",
            "\u001b[1;31mView Jupyter <a href='command:jupyter.viewOutput'>log</a> for further details."
          ]
        },
        {
          "ename": "",
          "evalue": "",
          "output_type": "error",
          "traceback": [
            "\u001b[1;31mnotebook controller is DISPOSED. \n",
            "\u001b[1;31mView Jupyter <a href='command:jupyter.viewOutput'>log</a> for further details."
          ]
        },
        {
          "ename": "",
          "evalue": "",
          "output_type": "error",
          "traceback": [
            "\u001b[1;31mnotebook controller is DISPOSED. \n",
            "\u001b[1;31mView Jupyter <a href='command:jupyter.viewOutput'>log</a> for further details."
          ]
        },
        {
          "ename": "",
          "evalue": "",
          "output_type": "error",
          "traceback": [
            "\u001b[1;31mnotebook controller is DISPOSED. \n",
            "\u001b[1;31mView Jupyter <a href='command:jupyter.viewOutput'>log</a> for further details."
          ]
        }
      ],
      "source": [
        "def gradient_suma_quadrats(v):\n",
        "    return [2 * v_i for v_i in v]\n",
        "\n",
        "def pas(v,grad,mida_pas):\n",
        "    return [v_i - mida_pas * g_i for v_i, g_i in zip(v,grad)]"
      ]
    },
    {
      "cell_type": "markdown",
      "metadata": {
        "id": "LwcQmN8OCYs1"
      },
      "source": [
        "Començarem escollint un valor a l'atzar i llavors anirem movent-nos en la direcció contrària al gradient.\n",
        "\n",
        "Ens aturarem quan el canvi en el valor de la funcio sigui *prou petit*.\n",
        "\n",
        "Implementarem el concepte *prou petit* amb aquesta funció distància:"
      ]
    },
    {
      "cell_type": "code",
      "execution_count": null,
      "metadata": {
        "id": "BKDjr2KYCYs1"
      },
      "outputs": [
        {
          "ename": "",
          "evalue": "",
          "output_type": "error",
          "traceback": [
            "\u001b[1;31mnotebook controller is DISPOSED. \n",
            "\u001b[1;31mView Jupyter <a href='command:jupyter.viewOutput'>log</a> for further details."
          ]
        },
        {
          "ename": "",
          "evalue": "",
          "output_type": "error",
          "traceback": [
            "\u001b[1;31mnotebook controller is DISPOSED. \n",
            "\u001b[1;31mView Jupyter <a href='command:jupyter.viewOutput'>log</a> for further details."
          ]
        },
        {
          "ename": "",
          "evalue": "",
          "output_type": "error",
          "traceback": [
            "\u001b[1;31mnotebook controller is DISPOSED. \n",
            "\u001b[1;31mView Jupyter <a href='command:jupyter.viewOutput'>log</a> for further details."
          ]
        },
        {
          "ename": "",
          "evalue": "",
          "output_type": "error",
          "traceback": [
            "\u001b[1;31mnotebook controller is DISPOSED. \n",
            "\u001b[1;31mView Jupyter <a href='command:jupyter.viewOutput'>log</a> for further details."
          ]
        },
        {
          "ename": "",
          "evalue": "",
          "output_type": "error",
          "traceback": [
            "\u001b[1;31mnotebook controller is DISPOSED. \n",
            "\u001b[1;31mView Jupyter <a href='command:jupyter.viewOutput'>log</a> for further details."
          ]
        },
        {
          "ename": "",
          "evalue": "",
          "output_type": "error",
          "traceback": [
            "\u001b[1;31mnotebook controller is DISPOSED. \n",
            "\u001b[1;31mView Jupyter <a href='command:jupyter.viewOutput'>log</a> for further details."
          ]
        }
      ],
      "source": [
        "import random\n",
        "import numpy as np\n",
        "\n",
        "def distancia(v1,v2):\n",
        "    import numpy as np\n",
        "    import math\n",
        "    v = np.array(v1)-np.array(v2)\n",
        "    return math.sqrt(sum(v_i ** 2 for v_i in v))"
      ]
    },
    {
      "cell_type": "code",
      "execution_count": null,
      "metadata": {
        "colab": {
          "base_uri": "https://localhost:8080/"
        },
        "id": "0d2tBe7pCYs1",
        "outputId": "72470602-1197-4432-9126-73fdff8f7f4b"
      },
      "outputs": [
        {
          "name": "stdout",
          "output_type": "stream",
          "text": [
            "[-3.135496166002628e-14, 1.567748083001314e-14, 3.527433186752959e-14]\n"
          ]
        },
        {
          "ename": "",
          "evalue": "",
          "output_type": "error",
          "traceback": [
            "\u001b[1;31mnotebook controller is DISPOSED. \n",
            "\u001b[1;31mView Jupyter <a href='command:jupyter.viewOutput'>log</a> for further details."
          ]
        },
        {
          "ename": "",
          "evalue": "",
          "output_type": "error",
          "traceback": [
            "\u001b[1;31mnotebook controller is DISPOSED. \n",
            "\u001b[1;31mView Jupyter <a href='command:jupyter.viewOutput'>log</a> for further details."
          ]
        },
        {
          "ename": "",
          "evalue": "",
          "output_type": "error",
          "traceback": [
            "\u001b[1;31mnotebook controller is DISPOSED. \n",
            "\u001b[1;31mView Jupyter <a href='command:jupyter.viewOutput'>log</a> for further details."
          ]
        },
        {
          "ename": "",
          "evalue": "",
          "output_type": "error",
          "traceback": [
            "\u001b[1;31mnotebook controller is DISPOSED. \n",
            "\u001b[1;31mView Jupyter <a href='command:jupyter.viewOutput'>log</a> for further details."
          ]
        },
        {
          "ename": "",
          "evalue": "",
          "output_type": "error",
          "traceback": [
            "\u001b[1;31mnotebook controller is DISPOSED. \n",
            "\u001b[1;31mView Jupyter <a href='command:jupyter.viewOutput'>log</a> for further details."
          ]
        },
        {
          "ename": "",
          "evalue": "",
          "output_type": "error",
          "traceback": [
            "\u001b[1;31mnotebook controller is DISPOSED. \n",
            "\u001b[1;31mView Jupyter <a href='command:jupyter.viewOutput'>log</a> for further details."
          ]
        }
      ],
      "source": [
        "tolerancia = 1e-15\n",
        "v = [random.randint(-10,10) for i in range(3)]\n",
        "\n",
        "while True:\n",
        "    gradient = gradient_suma_quadrats(v)\n",
        "    next_v = pas(v,gradient,0.01)\n",
        "    if distancia(next_v,v) < tolerancia:\n",
        "        break\n",
        "    v = next_v\n",
        "print(v)\n"
      ]
    },
    {
      "cell_type": "markdown",
      "metadata": {
        "id": "lHoOafXVCYs2"
      },
      "source": [
        "### El pas\n",
        "\n",
        "La **mida del pas** és un aspecte delicat: si és massa petita avançarem massa lentament; si és massa gran, podem perdre el màxim (mínim) ques estem buscant.\n",
        "\n",
        "Per tant, a l'hora de triar la mida del pas hem de considerar quina política seguir:\n",
        "\n",
        "+ Fer servir una mida de pas constant. En aquest cas la mida del pas defineix la precisió de la solució.\n",
        "+ Anar disminuint la mida del pas a mesura que passa el temps.\n",
        "+ A cada pas, cercar la mida que minimitza el valor de funció objectiu.\n",
        "\n",
        "La darrera opció és bona però molt cara. El màxim que podriem fer és considerar un conjunt fix de mides."
      ]
    },
    {
      "cell_type": "code",
      "execution_count": null,
      "metadata": {
        "collapsed": true,
        "id": "FQ-pt0qRCYs2",
        "jupyter": {
          "outputs_hidden": true
        }
      },
      "outputs": [
        {
          "ename": "",
          "evalue": "",
          "output_type": "error",
          "traceback": [
            "\u001b[1;31mnotebook controller is DISPOSED. \n",
            "\u001b[1;31mView Jupyter <a href='command:jupyter.viewOutput'>log</a> for further details."
          ]
        },
        {
          "ename": "",
          "evalue": "",
          "output_type": "error",
          "traceback": [
            "\u001b[1;31mnotebook controller is DISPOSED. \n",
            "\u001b[1;31mView Jupyter <a href='command:jupyter.viewOutput'>log</a> for further details."
          ]
        },
        {
          "ename": "",
          "evalue": "",
          "output_type": "error",
          "traceback": [
            "\u001b[1;31mnotebook controller is DISPOSED. \n",
            "\u001b[1;31mView Jupyter <a href='command:jupyter.viewOutput'>log</a> for further details."
          ]
        },
        {
          "ename": "",
          "evalue": "",
          "output_type": "error",
          "traceback": [
            "\u001b[1;31mnotebook controller is DISPOSED. \n",
            "\u001b[1;31mView Jupyter <a href='command:jupyter.viewOutput'>log</a> for further details."
          ]
        },
        {
          "ename": "",
          "evalue": "",
          "output_type": "error",
          "traceback": [
            "\u001b[1;31mnotebook controller is DISPOSED. \n",
            "\u001b[1;31mView Jupyter <a href='command:jupyter.viewOutput'>log</a> for further details."
          ]
        },
        {
          "ename": "",
          "evalue": "",
          "output_type": "error",
          "traceback": [
            "\u001b[1;31mnotebook controller is DISPOSED. \n",
            "\u001b[1;31mView Jupyter <a href='command:jupyter.viewOutput'>log</a> for further details."
          ]
        }
      ],
      "source": [
        "mides_pas = [100, 10, 1, 0.1, 0.01, 0.001, 0.0001, 0.00001]"
      ]
    },
    {
      "cell_type": "markdown",
      "metadata": {
        "id": "BCvscLIaCYs2"
      },
      "source": [
        "### Plantejament general d'un problema d'aprenentatge supervisat\n",
        "\n",
        "En general, tenim els següents elements:\n",
        "\n",
        "+ Un conjunt de dades $\\{(\\mathbf x_i,y_i)\\}$.\n",
        "+ Un model $f_\\theta$ que depèn d'uns paràmetres $\\theta$.\n",
        "+ Una funció objectiu $L$, que volem minimitzar, que representa la discrepància entre les dades i el model $f_\\theta$.\n",
        "+ La funció que representa el gradient de la funció objectiu, $L'$, respecte dels paràmetres.\n",
        "\n",
        "\n",
        "El cas més normal és que $L$  representi els errors d'un model $f$ de representació de les dades $(\\mathbf x_i, y_i)$, en funció dels seus paràmetres $\\theta$, i volem trobar els paràmetres que minimitzen l'error:\n",
        "\n",
        "$$ L = \\frac{1}{n} \\sum_{i} (y_i - f(\\mathbf x_i,\\theta))^2 $$\n",
        "\n",
        "Per exemple, $(\\mathbf x,y)$ pot representar:\n",
        "\n",
        "+ $\\mathbf x$: el comportament d'un jugador de \"Candy Crush\"; $y$: les compres mensuals que fa de \"vides\".\n",
        "+ $\\mathbf x$: les dades de funcionament del motor d'un cotxe; $y$: la probabilitat d'un error de funcionament del motor.\n",
        "+ $\\mathbf x$: les dades financeres d'un client d'un banc; $y$: la seva qualificació (si/no) per un préstec.\n",
        "\n",
        "> El cas que $y$ és un valor real, el problema s'anomena *regressió*.\n",
        "> El cas que $y$ és un valor binari o categòric, el problema s'anomena *classificació*.\n",
        "\n",
        "Llavors els descens del gradient es pot implementar així:\n",
        "\n",
        "1. Inicialitza els **paràmetres**: Comença inicialitzant els paràmetres del model, $\\theta$, de manera aleatòria: $\\theta_0$. (Es la \"b\")\n",
        "\n",
        "2. Defineix una **funció de cost** $L(x,y,\\theta)$ que mesuri quan bé ho fa el model amb els paràmetres $\\theta$. L'objectiu és minimitzar aquesta funció.\n",
        "\n",
        "3. Calcula el **gradient de la funció de cost** $L'(x,y,\\theta)$ respecte de cada paràmetre. El gradient apunta a la direcció de l'augment més pronunciat de la funció de cost.\n",
        "\n",
        "4. Actualitza els **paràmetres**: Ajusta els paràmetres del model en la direcció contrària del gradient per reduir el cost. Això es fa utilitzant la següent fórmula d'actualització ($\\alpha$ és la taxa d'aprenentatge, que controla la mida del pas en cada iteració. És un hiperparàmetre que s'ha de fixar prèviament i pot variar segons el problema):\n",
        "\n",
        "$$ \\theta_{i+1} = \\theta_{i} - \\alpha * L'(x,y,\\theta_i)$$\n",
        "\n",
        "\n",
        "\n",
        "5. Repeteix: Repeteix els passos 3 i 4 durant un nombre fix d'iteracions, fins que els canvis en els paràmetres es tornen molt petits o fins quan la funció de cost arriba a un mínim dins d'una tolerància prèviament definida."
      ]
    },
    {
      "cell_type": "markdown",
      "metadata": {
        "id": "wc7qEcXOCYs2"
      },
      "source": [
        "**Observació important:** Aquesta funció avalua a cada pas la funció de cost $L$ tal i com està definida, és a dir, calculant un sumatori de $f(x,y,\\theta)$ per **totes** les dades $(x_i,y_i)$ a cada iteració. I les dades poden ser moltes..."
      ]
    },
    {
      "cell_type": "markdown",
      "metadata": {
        "id": "Q_9M4i8bCYs3"
      },
      "source": [
        "### Descens del gradient estocàstic\n",
        "\n",
        "#### Con esto solo cojo una fila al azar y veo como de bien el modelo lo predice. \n",
        "Si cumple que:\n",
        "- El orden en el que miras las muestras ha de ser aleatorio.\n",
        "\n",
        "Siempre se usa con aprendizaje automático. Sino el sumatorio se volviería un infierno.\n",
        "\n",
        "\"\"\n",
        "\n",
        "**Si el volum de dades és molt gran, $f$ és costosa i hem de fer moltes iteracions, aquesta estratègia no és viable**.\n",
        "\n",
        "Però podem aprofitar que la funció d'error que estem avaluant quan aprenem un model a partir de dades és de tipus additiu: es construeix a partir de la suma dels errors de cada una de les dades respecte del model.\n",
        "\n",
        "En aquest cas podem usar la tècnica **Stochastic Gradient Descend** (SGD), que consisteix en calcular el gradient (i fer un pas en la direcció del mínim) a partir de l'estimació d'**una única dada** (o d'un conjunt petit de dades o *minibatch*).\n",
        "\n",
        "Una de les condicions d'aquest algorisme (per assegurar que convergim al mínim) és que a cada cicle iterarem sobre les dades en **ordre aleatori**.\n",
        "\n",
        "1. Comença inicialitzant els paràmetres del model de manera aleatòria.\n",
        "2.  Defineix una funció de cost que mesuri quan bé ho fa el model. L'objectiu és minimitzar aquesta funció.\n",
        "3. Bucle d'iteració:\n",
        "+ Tria una dada aleatòria: En cada iteració, selecciona una dada aleatòria d'entrenament del teu conjunt de dades. Aquesta mostra pot ser un exemple individual o un petit lot (mini-batch) d'exemples.\n",
        "+ Calcula el gradient: Calcula el gradient de la funció de cost respecte als paràmetres utilitzant només aquesta dada. Aquest gradient representa la direcció de l'augment més pronunciat de la funció de cost basat en aquesta mostra en particular.\n",
        "+ Actualitza els paràmetres: Ajusta els paràmetres del model en la direcció contrària del gradient calculat per a la mostra actual.\n",
        "4. Repeteix el bucle: Continua seleccionant mostres aleatòries, calculant gradients i actualitzant els paràmetres durant un nombre fix d'iteracions o fins que es compleixin criteris de convergència."
      ]
    },
    {
      "cell_type": "markdown",
      "metadata": {
        "id": "Vj_mmWifCYs3"
      },
      "source": [
        "## Gradient Descent i Regressió Lineal\n",
        "\n"
      ]
    },
    {
      "cell_type": "markdown",
      "metadata": {
        "id": "nDfrDerECYs3"
      },
      "source": [
        "El model de regressió lineal assumeix una relació entre les dades i el model d'aquest tipus:\n",
        "\n",
        "$$ y_i = w_1 x_i + w_2$$\n",
        "\n",
        "La funció de cost serà:\n",
        "\n",
        "$$ L = \\frac{1}{n} \\sum_i (y_i - w_1 x_i - w_2)^2$$\n",
        "\n",
        "Les derivades de la funció de cost són:\n",
        "\n",
        "$$ \\frac{\\partial f}{\\partial w_1} = \\frac{1}{n} \\sum_i - 2 x_i (y_i - w_1 x_i - w_2) $$\n",
        "\n",
        "$$ \\frac{\\partial f}{\\partial w_2} = \\frac{1}{n} \\sum_i - 2 (y_i - w_1 x_i - w_2) $$"
      ]
    },
    {
      "cell_type": "code",
      "execution_count": 3,
      "metadata": {
        "colab": {
          "base_uri": "https://localhost:8080/",
          "height": 570
        },
        "collapsed": true,
        "id": "yLA_nkFRCYs3",
        "jupyter": {
          "outputs_hidden": true
        },
        "outputId": "4826cbc8-4dc7-4b88-ae67-f64f9e18d0b9"
      },
      "outputs": [
        {
          "data": {
            "image/png": "[encoded data removed]",
            "text/plain": [
              "<Figure size 1200x600 with 1 Axes>"
            ]
          },
          "metadata": {},
          "output_type": "display_data"
        }
      ],
      "source": [
        "import numpy as np\n",
        "import matplotlib.pyplot as plt\n",
        "\n",
        "# generació de les dades (sorolloses) per y=2x\n",
        "x = np.random.uniform(0,1,200)\n",
        "def true_f(x): return x*2\n",
        "noise_variance =0.1\n",
        "noise = np.random.randn(x.shape[0])*noise_variance\n",
        "y = true_f(x) + noise\n",
        "\n",
        "N = len(x)\n",
        "\n",
        "# El nostre model y = x * w1 + w_2\n",
        "def f(x,w1, w2): return x * w1 + w2\n",
        "\n",
        "# La funció de cost\n",
        "def L(x,y,w1, w2):\n",
        "    return np.square(y - w1*x - w2)\n",
        "\n",
        "plt.plot(x, y, 'o', label='y')\n",
        "plt.plot([0, 1], [true_f(0), true_f(1)], 'b-', label='f(x)')\n",
        "plt.xlabel('$x$', fontsize=15)\n",
        "plt.ylabel('$t$', fontsize=15)\n",
        "plt.ylim([0,2])\n",
        "plt.title('inputs (x) vs targets (y)')\n",
        "plt.grid()\n",
        "plt.legend(loc=2)\n",
        "plt.gcf().set_size_inches((12,6))\n",
        "plt.show()"
      ]
    },
    {
      "cell_type": "code",
      "execution_count": 4,
      "metadata": {
        "colab": {
          "base_uri": "https://localhost:8080/"
        },
        "id": "9gLMQWk2MJg6",
        "outputId": "7f12829f-6468-4f35-8ee9-1bacc942b3cf"
      },
      "outputs": [
        {
          "name": "stdout",
          "output_type": "stream",
          "text": [
            "0.010801172759781147\n"
          ]
        }
      ],
      "source": [
        "print(L(x, y, 2.0,0.0).sum()/N)"
      ]
    },
    {
      "cell_type": "markdown",
      "metadata": {
        "id": "1WXG59Kbhwcf"
      },
      "source": [
        "El mínim de la funció de cost no està exactament al valor de la $f$ que hem definit: tenim un conjunt de dades finites i sorolloses!"
      ]
    },
    {
      "cell_type": "code",
      "execution_count": 5,
      "metadata": {
        "colab": {
          "base_uri": "https://localhost:8080/"
        },
        "id": "sz4rko8wCYs4",
        "outputId": "0d29df50-06fd-434b-bf7d-7ab72ed4a916"
      },
      "outputs": [
        {
          "name": "stdout",
          "output_type": "stream",
          "text": [
            "Loss:  0.9828405794885239\n",
            "Loss:  0.9746175096514361\n",
            "Loss:  0.5843370227439213\n",
            "Loss:  0.39656576275332484\n",
            "Loss:  0.27027035059723453\n",
            "Loss:  0.1853135137217267\n",
            "Loss:  0.12816462586045818\n",
            "Loss:  0.08972163236842448\n",
            "Loss:  0.06386174600753883\n",
            "Loss:  0.04646628166358474\n",
            "Loss:  0.03476467650111521\n",
            "Loss:  0.026893224456437836\n",
            "Loss:  0.021598245141088893\n",
            "Loss:  0.018036411086731576\n",
            "Loss:  0.01564043159838819\n",
            "Paràmetres:  2.2177881266528936 -0.11185483517660855\n"
          ]
        }
      ],
      "source": [
        "# definim els gradients de la funció de cost\n",
        "\n",
        "def gradient_1(w1, w2, x, y):\n",
        "    return (-2 * x * (y  - w1*x - w2)).sum()/N\n",
        "\n",
        "def gradient_2(w1, w2, x, y):\n",
        "    return (-2 * (y  - w1*x - w2)).sum()/N\n",
        "\n",
        "# definim un pas (que depèn del mòdul del gradient)\n",
        "def delta_w1(w1, w2, x, y, learning_rate):\n",
        "    return learning_rate * gradient_1(w1, w2, x, y)\n",
        "\n",
        "def delta_w2(w1, w2, x, y, learning_rate):\n",
        "    return learning_rate * gradient_2(w1, w2, x, y)\n",
        "\n",
        "# valor inicial del paràmetre\n",
        "w1 = w1_ini = 5.0\n",
        "w2 = w2_ini = -2.0\n",
        "\n",
        "#learning_rate = 0.1\n",
        "learning_rate = 0.01     #Esto puede ser moulado por el gradiente, así será grande cuando gradiente grande y pequeño cuando sea pequeño.\n",
        "#learning_rate = 0.001\n",
        "\n",
        "\n",
        "nb_of_iterations = 2000\n",
        "\n",
        "#anirem guardant les solucions (de w_1) i els seus costos\n",
        "print(\"Loss: \", L(x,y,w1,w2).sum()/N)\n",
        "\n",
        "for i in range(nb_of_iterations):\n",
        "    w1 = w1 - delta_w1(w1, w2, x, y, learning_rate)\n",
        "    w2 = w2 - delta_w2(w1, w2, x, y, learning_rate)\n",
        "    if i%150 == 0: print(\"Loss: \", L(x,y,w1,w2).sum()/N)\n",
        "\n",
        "print(\"Paràmetres: \",w1,w2)"
      ]
    },
    {
      "cell_type": "code",
      "execution_count": 6,
      "metadata": {
        "colab": {
          "base_uri": "https://localhost:8080/",
          "height": 570
        },
        "id": "g4qP7i6bO0Hf",
        "outputId": "705c5a29-6011-499d-8a4d-ecf70ea2ce7f"
      },
      "outputs": [
        {
          "data": {
            "image/png": "[encoded data removed]",
            "text/plain": [
              "<Figure size 1200x600 with 1 Axes>"
            ]
          },
          "metadata": {},
          "output_type": "display_data"
        }
      ],
      "source": [
        "def est_f(x): return w1*x+w2\n",
        "def ini_f(x): return w1_ini*x+w2_ini\n",
        "\n",
        "plt.plot(x, y, 'o', label='y')\n",
        "plt.plot([0, 1], [true_f(0), true_f(1)], 'b-', label='f(x) original')\n",
        "plt.plot([0, 1], [est_f(0), est_f(1)], 'r-', label='f(x) estimada')\n",
        "plt.plot([0, 1], [ini_f(0), ini_f(1)], 'g-', label='f(x) inicial')\n",
        "plt.xlabel('$x$', fontsize=15)\n",
        "plt.ylabel('$t$', fontsize=15)\n",
        "plt.ylim([0,2])\n",
        "plt.title('inputs (x) vs targets (y)')\n",
        "plt.grid()\n",
        "plt.legend(loc=2)\n",
        "plt.gcf().set_size_inches((12,6))\n",
        "plt.show()"
      ]
    },
    {
      "cell_type": "markdown",
      "metadata": {
        "id": "LAHV4Hm8SKkP"
      },
      "source": [
        "Encara podem iterar més!!"
      ]
    },
    {
      "cell_type": "code",
      "execution_count": 7,
      "metadata": {
        "colab": {
          "base_uri": "https://localhost:8080/"
        },
        "id": "Z0azN3fDRJKn",
        "outputId": "8bb15296-1255-4a99-860d-35deea1cb406"
      },
      "outputs": [
        {
          "name": "stdout",
          "output_type": "stream",
          "text": [
            "Loss:  0.015030834006203517\n",
            "Loss:  0.015019445023241708\n",
            "Loss:  0.015008086104153355\n",
            "Loss:  0.014996757169577863\n",
            "Loss:  0.01498545814036413\n",
            "Loss:  0.014974188937569988\n",
            "Loss:  0.014962949482461659\n",
            "Loss:  0.014951739696513191\n",
            "Loss:  0.01494055950140592\n",
            "Loss:  0.014929408819027948\n",
            "Loss:  0.014918287571473525\n",
            "Loss:  0.014907195681042595\n",
            "Loss:  0.014896133070240191\n",
            "Loss:  0.014885099661775904\n",
            "Loss:  0.014874095378563372\n",
            "Loss:  0.0148631201437197\n",
            "Loss:  0.014852173880564954\n",
            "Loss:  0.014841256512621621\n",
            "Loss:  0.014830367963614054\n",
            "Loss:  0.014819508157467947\n",
            "Loss:  0.014808677018309825\n",
            "Loss:  0.01479787447046652\n",
            "Loss:  0.01478710043846457\n",
            "Loss:  0.014776354847029771\n",
            "Loss:  0.014765637621086642\n",
            "Loss:  0.014754948685757845\n",
            "Loss:  0.014744287966363708\n",
            "Loss:  0.014733655388421703\n",
            "Loss:  0.014723050877645921\n",
            "Loss:  0.01471247435994653\n",
            "Loss:  0.014701925761429292\n",
            "Loss:  0.014691405008395013\n",
            "Loss:  0.014680912027339059\n",
            "Loss:  0.014670446744950818\n",
            "Loss:  0.014660009088113215\n",
            "Loss:  0.014649598983902163\n",
            "Loss:  0.014639216359586099\n",
            "Loss:  0.01462886114262543\n",
            "Loss:  0.014618533260672058\n",
            "Loss:  0.014608232641568866\n",
            "Loss:  0.014597959213349214\n",
            "Loss:  0.014587712904236425\n",
            "Loss:  0.014577493642643295\n",
            "Loss:  0.014567301357171608\n",
            "Loss:  0.014557135976611594\n",
            "Loss:  0.014546997429941493\n",
            "Loss:  0.014536885646326976\n",
            "Loss:  0.014526800555120735\n",
            "Loss:  0.014516742085861942\n",
            "Loss:  0.014506710168275766\n",
            "Loss:  0.014496704732272882\n",
            "Loss:  0.014486725707948978\n",
            "Loss:  0.01447677302558428\n",
            "Loss:  0.014466846615643049\n",
            "Loss:  0.014456946408773106\n",
            "Loss:  0.014447072335805333\n",
            "Loss:  0.014437224327753215\n",
            "Loss:  0.014427402315812325\n",
            "Loss:  0.014417606231359886\n",
            "Loss:  0.014407836005954244\n",
            "Loss:  0.014398091571334426\n",
            "Loss:  0.014388372859419638\n",
            "Loss:  0.014378679802308822\n",
            "Loss:  0.014369012332280133\n",
            "Loss:  0.014359370381790509\n",
            "Loss:  0.014349753883475187\n",
            "Loss:  0.014340162770147229\n",
            "Loss:  0.014330596974797036\n",
            "Loss:  0.014321056430591917\n",
            "Loss:  0.014311541070875584\n",
            "Loss:  0.014302050829167716\n",
            "Loss:  0.014292585639163486\n",
            "Loss:  0.014283145434733075\n",
            "Loss:  0.014273730149921253\n",
            "Loss:  0.014264339718946877\n",
            "Loss:  0.014254974076202447\n",
            "Loss:  0.014245633156253667\n",
            "Loss:  0.014236316893838957\n",
            "Loss:  0.014227025223869007\n",
            "Loss:  0.01421775808142633\n",
            "Loss:  0.014208515401764807\n",
            "Loss:  0.01419929712030923\n",
            "Loss:  0.014190103172654846\n",
            "Loss:  0.014180933494566924\n",
            "Loss:  0.014171788021980283\n",
            "Loss:  0.014162666690998874\n",
            "Loss:  0.014153569437895306\n",
            "Loss:  0.014144496199110393\n",
            "Loss:  0.01413544691125277\n",
            "Loss:  0.014126421511098379\n",
            "Loss:  0.014117419935590049\n",
            "Loss:  0.014108442121837097\n",
            "Loss:  0.014099488007114816\n",
            "Loss:  0.014090557528864116\n",
            "Loss:  0.014081650624691008\n",
            "Loss:  0.014072767232366225\n",
            "Loss:  0.014063907289824776\n",
            "Loss:  0.014055070735165485\n",
            "Loss:  0.014046257506650593\n",
            "Loss:  0.014037467542705304\n",
            "Loss:  0.014028700781917371\n",
            "Loss:  0.01401995716303666\n",
            "Loss:  0.014011236624974712\n",
            "Loss:  0.014002539106804325\n",
            "Loss:  0.01399386454775914\n",
            "Loss:  0.0139852128872332\n",
            "Loss:  0.01397658406478052\n",
            "Loss:  0.01396797802011469\n",
            "Loss:  0.013959394693108439\n",
            "Loss:  0.013950834023793206\n",
            "Loss:  0.013942295952358739\n",
            "Loss:  0.01393378041915267\n",
            "Loss:  0.013925287364680107\n",
            "Loss:  0.013916816729603184\n",
            "Loss:  0.01390836845474068\n",
            "Loss:  0.013899942481067603\n",
            "Loss:  0.013891538749714773\n",
            "Loss:  0.013883157201968407\n",
            "Loss:  0.013874797779269699\n",
            "Loss:  0.013866460423214438\n",
            "Loss:  0.013858145075552579\n",
            "Loss:  0.01384985167818785\n",
            "Loss:  0.013841580173177303\n",
            "Loss:  0.013833330502730985\n",
            "Loss:  0.013825102609211484\n",
            "Loss:  0.013816896435133522\n",
            "Loss:  0.013808711923163575\n",
            "Loss:  0.013800549016119464\n",
            "Loss:  0.013792407656969947\n",
            "Loss:  0.013784287788834343\n",
            "Loss:  0.013776189354982114\n",
            "Loss:  0.013768112298832475\n",
            "Loss:  0.013760056563954006\n",
            "Loss:  0.013752022094064238\n",
            "Loss:  0.013744008833029292\n",
            "Loss:  0.01373601672486344\n",
            "Loss:  0.013728045713728767\n",
            "Loss:  0.01372009574393474\n",
            "Loss:  0.013712166759937831\n",
            "Loss:  0.013704258706341163\n",
            "Loss:  0.013696371527894042\n",
            "Loss:  0.013688505169491662\n",
            "Loss:  0.013680659576174677\n",
            "Loss:  0.013672834693128789\n",
            "Loss:  0.013665030465684416\n",
            "Loss:  0.013657246839316288\n",
            "Loss:  0.013649483759643066\n",
            "Loss:  0.013641741172426964\n",
            "Loss:  0.013634019023573364\n",
            "Loss:  0.01362631725913046\n",
            "Loss:  0.013618635825288834\n",
            "Loss:  0.013610974668381142\n",
            "Loss:  0.013603333734881685\n",
            "Loss:  0.013595712971406073\n",
            "Loss:  0.013588112324710822\n",
            "Loss:  0.013580531741693\n",
            "Loss:  0.013572971169389865\n",
            "Loss:  0.013565430554978483\n",
            "Loss:  0.013557909845775333\n",
            "Loss:  0.013550408989235992\n",
            "Loss:  0.013542927932954725\n",
            "Loss:  0.013535466624664141\n",
            "Loss:  0.013528025012234815\n",
            "Loss:  0.013520603043674934\n",
            "Loss:  0.013513200667129934\n",
            "Loss:  0.013505817830882123\n",
            "Loss:  0.013498454483350337\n",
            "Loss:  0.01349111057308957\n",
            "Loss:  0.013483786048790615\n",
            "Loss:  0.013476480859279718\n",
            "Loss:  0.013469194953518194\n",
            "Loss:  0.013461928280602102\n",
            "Loss:  0.013454680789761862\n",
            "Loss:  0.013447452430361913\n",
            "Loss:  0.013440243151900358\n",
            "Loss:  0.013433052904008631\n",
            "Loss:  0.013425881636451092\n",
            "Loss:  0.013418729299124736\n",
            "Loss:  0.013411595842058819\n",
            "Loss:  0.01340448121541448\n",
            "Loss:  0.01339738536948444\n",
            "Loss:  0.013390308254692632\n",
            "Loss:  0.013383249821593845\n",
            "Loss:  0.013376210020873408\n",
            "Loss:  0.013369188803346818\n",
            "Loss:  0.013362186119959407\n",
            "Loss:  0.013355201921785981\n",
            "Loss:  0.013348236160030528\n",
            "Loss:  0.013341288786025828\n",
            "Loss:  0.01333435975123312\n",
            "Loss:  0.013327449007241785\n",
            "Loss:  0.013320556505768995\n",
            "Loss:  0.013313682198659376\n",
            "Loss:  0.013306826037884668\n",
            "Loss:  0.013299987975543392\n",
            "Loss:  0.013293167963860517\n",
            "Loss:  0.013286365955187118\n",
            "Loss:  0.013279581902000062\n",
            "Loss:  0.01327281575690166\n",
            "Loss:  0.013266067472619348\n",
            "Loss:  0.013259337002005333\n",
            "Loss:  0.013252624298036288\n",
            "Loss:  0.013245929313813028\n",
            "Loss:  0.013239252002560136\n",
            "Loss:  0.013232592317625707\n",
            "Loss:  0.013225950212480957\n",
            "Loss:  0.01321932564071994\n",
            "Loss:  0.013212718556059202\n",
            "Loss:  0.013206128912337474\n",
            "Loss:  0.013199556663515329\n",
            "Loss:  0.013193001763674883\n",
            "Loss:  0.013186464167019461\n",
            "Loss:  0.013179943827873268\n",
            "Loss:  0.013173440700681084\n",
            "Loss:  0.013166954740007958\n",
            "Loss:  0.013160485900538864\n",
            "Loss:  0.013154034137078394\n",
            "Loss:  0.013147599404550441\n",
            "Loss:  0.013141181657997889\n",
            "Loss:  0.013134780852582306\n",
            "Loss:  0.013128396943583621\n",
            "Loss:  0.013122029886399784\n",
            "Loss:  0.013115679636546518\n",
            "Loss:  0.013109346149656961\n",
            "Loss:  0.013103029381481364\n",
            "Loss:  0.013096729287886784\n",
            "Loss:  0.013090445824856784\n",
            "Loss:  0.013084178948491112\n",
            "Loss:  0.013077928615005412\n",
            "Loss:  0.013071694780730883\n",
            "Loss:  0.01306547740211403\n",
            "Loss:  0.013059276435716303\n",
            "Loss:  0.013053091838213833\n",
            "Loss:  0.013046923566397094\n",
            "Loss:  0.01304077157717066\n",
            "Loss:  0.013034635827552807\n",
            "Loss:  0.01302851627467533\n",
            "Loss:  0.013022412875783151\n",
            "Loss:  0.01301632558823407\n",
            "Loss:  0.013010254369498438\n",
            "Loss:  0.013004199177158882\n",
            "Loss:  0.012998159968909991\n",
            "Loss:  0.012992136702558041\n",
            "Loss:  0.012986129336020679\n",
            "Loss:  0.012980137827326639\n",
            "Loss:  0.01297416213461545\n",
            "Loss:  0.012968202216137148\n",
            "Loss:  0.012962258030251961\n",
            "Loss:  0.012956329535430048\n",
            "Loss:  0.012950416690251196\n",
            "Loss:  0.012944519453404524\n",
            "Loss:  0.012938637783688202\n",
            "Loss:  0.012932771640009165\n",
            "Loss:  0.012926920981382818\n",
            "Loss:  0.012921085766932761\n",
            "Loss:  0.012915265955890494\n",
            "Loss:  0.012909461507595128\n",
            "Loss:  0.012903672381493125\n",
            "Loss:  0.01289789853713798\n",
            "Loss:  0.012892139934189957\n",
            "Loss:  0.01288639653241581\n",
            "Loss:  0.01288066829168852\n",
            "Loss:  0.012874955171986955\n",
            "Loss:  0.012869257133395642\n",
            "Loss:  0.012863574136104488\n",
            "Loss:  0.01285790614040847\n",
            "Loss:  0.012852253106707392\n",
            "Loss:  0.012846614995505583\n",
            "Loss:  0.012840991767411616\n",
            "Loss:  0.012835383383138076\n",
            "Loss:  0.01282978980350123\n",
            "Loss:  0.012824210989420801\n",
            "Loss:  0.012818646901919662\n",
            "Loss:  0.01281309750212357\n",
            "Loss:  0.012807562751260911\n",
            "Loss:  0.012802042610662416\n",
            "Loss:  0.012796537041760883\n",
            "Loss:  0.012791046006090925\n",
            "Loss:  0.012785569465288686\n",
            "Loss:  0.012780107381091602\n",
            "Loss:  0.01277465971533808\n",
            "Loss:  0.01276922642996729\n",
            "Loss:  0.012763807487018856\n",
            "Loss:  0.01275840284863262\n",
            "Loss:  0.012753012477048352\n",
            "Loss:  0.012747636334605503\n",
            "Loss:  0.012742274383742947\n",
            "Loss:  0.012736926586998695\n",
            "Loss:  0.012731592907009662\n",
            "Loss:  0.01272627330651138\n",
            "Loss:  0.012720967748337758\n",
            "Loss:  0.012715676195420801\n",
            "Loss:  0.01271039861079038\n",
            "Loss:  0.012705134957573938\n",
            "Loss:  0.012699885198996268\n",
            "Loss:  0.012694649298379237\n",
            "Loss:  0.01268942721914153\n",
            "Loss:  0.012684218924798396\n",
            "Loss:  0.012679024378961396\n",
            "Loss:  0.012673843545338136\n",
            "Loss:  0.012668676387732045\n",
            "Loss:  0.012663522870042087\n",
            "Loss:  0.012658382956262523\n",
            "Loss:  0.012653256610482671\n",
            "Loss:  0.01264814379688663\n",
            "Loss:  0.01264304447975304\n",
            "Loss:  0.012637958623454862\n",
            "Loss:  0.012632886192459067\n",
            "Loss:  0.012627827151326453\n",
            "Loss:  0.012622781464711354\n",
            "Loss:  0.012617749097361413\n",
            "Loss:  0.012612730014117328\n",
            "Loss:  0.012607724179912605\n",
            "Loss:  0.01260273155977331\n",
            "Loss:  0.012597752118817848\n",
            "Loss:  0.012592785822256702\n",
            "Loss:  0.012587832635392164\n",
            "Loss:  0.012582892523618145\n",
            "Loss:  0.012577965452419902\n",
            "Loss:  0.01257305138737378\n",
            "Loss:  0.01256815029414703\n",
            "Loss:  0.012563262138497509\n",
            "Loss:  0.012558386886273462\n",
            "Loss:  0.012553524503413302\n",
            "Loss:  0.012548674955945329\n",
            "Loss:  0.012543838209987548\n",
            "Loss:  0.012539014231747385\n",
            "Loss:  0.01253420298752148\n",
            "Loss:  0.012529404443695437\n",
            "Loss:  0.012524618566743593\n",
            "Loss:  0.012519845323228777\n",
            "Loss:  0.012515084679802092\n",
            "Loss:  0.01251033660320267\n",
            "Loss:  0.012505601060257434\n",
            "Loss:  0.012500878017880905\n",
            "Loss:  0.012496167443074902\n",
            "Loss:  0.012491469302928377\n",
            "Loss:  0.012486783564617143\n",
            "Loss:  0.012482110195403677\n",
            "Loss:  0.012477449162636857\n",
            "Loss:  0.012472800433751758\n",
            "Loss:  0.012468163976269424\n",
            "Loss:  0.012463539757796625\n",
            "Loss:  0.012458927746025639\n",
            "Loss:  0.012454327908734037\n",
            "Loss:  0.012449740213784454\n",
            "Loss:  0.012445164629124332\n",
            "Loss:  0.012440601122785762\n",
            "Loss:  0.012436049662885185\n",
            "Loss:  0.012431510217623232\n",
            "Loss:  0.012426982755284447\n",
            "Loss:  0.012422467244237134\n",
            "Loss:  0.012417963652933064\n",
            "Loss:  0.012413471949907311\n",
            "Loss:  0.01240899210377798\n",
            "Loss:  0.012404524083246035\n",
            "Loss:  0.01240006785709506\n",
            "Loss:  0.01239562339419104\n",
            "Loss:  0.012391190663482139\n",
            "Loss:  0.012386769633998505\n",
            "Loss:  0.01238236027485202\n",
            "Loss:  0.01237796255523611\n",
            "Loss:  0.012373576444425528\n",
            "Loss:  0.012369201911776125\n",
            "Loss:  0.012364838926724641\n",
            "Loss:  0.012360487458788517\n",
            "Loss:  0.012356147477565638\n",
            "Loss:  0.012351818952734135\n",
            "Loss:  0.012347501854052206\n",
            "Loss:  0.012343196151357877\n",
            "Loss:  0.012338901814568773\n",
            "Loss:  0.012334618813681935\n",
            "Loss:  0.012330347118773616\n",
            "Loss:  0.012326086699999059\n",
            "Loss:  0.01232183752759227\n",
            "Loss:  0.012317599571865838\n",
            "Loss:  0.012313372803210732\n",
            "Loss:  0.012309157192096071\n",
            "Loss:  0.012304952709068924\n",
            "Loss:  0.012300759324754112\n",
            "Loss:  0.012296577009854004\n",
            "Loss:  0.012292405735148297\n",
            "Loss:  0.012288245471493826\n",
            "Loss:  0.012284096189824362\n",
            "Loss:  0.012279957861150388\n",
            "Loss:  0.01227583045655893\n",
            "Loss:  0.012271713947213327\n",
            "Loss:  0.012267608304353033\n",
            "Loss:  0.012263513499293428\n",
            "Loss:  0.012259429503425618\n",
            "Loss:  0.012255356288216225\n",
            "Loss:  0.012251293825207182\n",
            "Loss:  0.012247242086015558\n",
            "Loss:  0.012243201042333335\n",
            "Loss:  0.012239170665927224\n",
            "Loss:  0.012235150928638472\n",
            "Loss:  0.012231141802382646\n",
            "Loss:  0.012227143259149451\n",
            "Loss:  0.012223155271002534\n",
            "Loss:  0.012219177810079293\n",
            "Loss:  0.012215210848590664\n",
            "Loss:  0.01221125435882094\n",
            "Loss:  0.012207308313127578\n",
            "Loss:  0.012203372683941014\n",
            "Loss:  0.012199447443764451\n",
            "Loss:  0.01219553256517367\n",
            "Loss:  0.012191628020816858\n",
            "Loss:  0.012187733783414392\n",
            "Loss:  0.012183849825758673\n",
            "Loss:  0.01217997612071391\n",
            "Loss:  0.012176112641215944\n",
            "Loss:  0.012172259360272074\n",
            "Loss:  0.012168416250960825\n",
            "Loss:  0.012164583286431815\n",
            "Loss:  0.012160760439905527\n",
            "Loss:  0.01215694768467313\n",
            "Loss:  0.012153144994096317\n",
            "Loss:  0.012149352341607068\n",
            "Loss:  0.01214556970070752\n",
            "Loss:  0.012141797044969755\n",
            "Loss:  0.012138034348035603\n",
            "Loss:  0.01213428158361649\n",
            "Loss:  0.012130538725493223\n",
            "Loss:  0.01212680574751583\n",
            "Loss:  0.012123082623603358\n",
            "Loss:  0.012119369327743717\n",
            "Loss:  0.01211566583399347\n",
            "Loss:  0.012111972116477663\n",
            "Loss:  0.012108288149389643\n",
            "Loss:  0.012104613906990896\n",
            "Loss:  0.012100949363610829\n",
            "Loss:  0.012097294493646635\n",
            "Loss:  0.012093649271563063\n",
            "Loss:  0.012090013671892297\n",
            "Loss:  0.012086387669233738\n",
            "Loss:  0.012082771238253824\n",
            "Loss:  0.012079164353685891\n",
            "Loss:  0.01207556699032996\n",
            "Loss:  0.012071979123052573\n",
            "Loss:  0.012068400726786612\n",
            "Loss:  0.012064831776531148\n",
            "Loss:  0.012061272247351228\n",
            "Loss:  0.012057722114377736\n",
            "Loss:  0.012054181352807185\n",
            "Loss:  0.012050649937901576\n",
            "Loss:  0.01204712784498822\n",
            "Loss:  0.01204361504945954\n",
            "Loss:  0.012040111526772923\n",
            "Loss:  0.01203661725245054\n",
            "Loss:  0.012033132202079187\n",
            "Loss:  0.01202965635131009\n",
            "Loss:  0.012026189675858761\n",
            "Loss:  0.012022732151504806\n",
            "Loss:  0.012019283754091776\n",
            "Loss:  0.012015844459526984\n",
            "Loss:  0.012012414243781338\n",
            "Loss:  0.012008993082889186\n",
            "Loss:  0.012005580952948125\n",
            "Loss:  0.012002177830118864\n",
            "Loss:  0.011998783690625023\n",
            "Loss:  0.01199539851075301\n",
            "Loss:  0.011992022266851804\n",
            "Loss:  0.011988654935332833\n",
            "Loss:  0.01198529649266979\n",
            "Loss:  0.011981946915398467\n",
            "Loss:  0.011978606180116598\n",
            "Loss:  0.011975274263483692\n",
            "Loss:  0.011971951142220872\n",
            "Loss:  0.011968636793110705\n",
            "Loss:  0.011965331192997057\n",
            "Loss:  0.011962034318784912\n",
            "Loss:  0.011958746147440222\n",
            "Loss:  0.011955466655989734\n",
            "Loss:  0.011952195821520855\n",
            "Loss:  0.011948933621181452\n",
            "Loss:  0.011945680032179747\n",
            "Loss:  0.011942435031784096\n",
            "Loss:  0.011939198597322877\n",
            "Loss:  0.01193597070618431\n",
            "Loss:  0.011932751335816297\n",
            "Loss:  0.011929540463726287\n",
            "Loss:  0.011926338067481102\n",
            "Loss:  0.011923144124706762\n",
            "Loss:  0.011919958613088366\n",
            "Loss:  0.011916781510369918\n",
            "Loss:  0.011913612794354166\n",
            "Loss:  0.011910452442902453\n",
            "Loss:  0.011907300433934564\n",
            "Loss:  0.01190415674542858\n",
            "Loss:  0.011901021355420687\n",
            "Loss:  0.011897894242005071\n",
            "Loss:  0.011894775383333743\n",
            "Loss:  0.01189166475761638\n",
            "Loss:  0.011888562343120183\n",
            "Loss:  0.01188546811816972\n",
            "Loss:  0.011882382061146784\n",
            "Loss:  0.011879304150490218\n",
            "Loss:  0.011876234364695797\n",
            "Loss:  0.01187317268231605\n",
            "Loss:  0.011870119081960133\n",
            "Loss:  0.011867073542293655\n",
            "Loss:  0.011864036042038548\n",
            "Loss:  0.011861006559972919\n",
            "Loss:  0.01185798507493088\n",
            "Loss:  0.011854971565802435\n",
            "Loss:  0.011851966011533295\n",
            "Loss:  0.01184896839112476\n",
            "Loss:  0.011845978683633556\n",
            "Loss:  0.011842996868171696\n",
            "Loss:  0.011840022923906323\n",
            "Loss:  0.011837056830059587\n",
            "Loss:  0.01183409856590848\n",
            "Loss:  0.011831148110784688\n",
            "Loss:  0.011828205444074475\n",
            "Loss:  0.011825270545218505\n",
            "Loss:  0.01182234339371172\n",
            "Loss:  0.011819423969103182\n",
            "Loss:  0.01181651225099594\n",
            "Loss:  0.011813608219046893\n",
            "Loss:  0.011810711852966648\n",
            "Loss:  0.011807823132519338\n",
            "Loss:  0.011804942037522543\n",
            "Loss:  0.011802068547847116\n",
            "Loss:  0.011799202643417033\n",
            "Loss:  0.011796344304209274\n",
            "Loss:  0.011793493510253668\n",
            "Loss:  0.011790650241632767\n",
            "Loss:  0.0117878144784817\n",
            "Loss:  0.011784986200988033\n",
            "Loss:  0.011782165389391619\n",
            "Loss:  0.011779352023984493\n",
            "Loss:  0.011776546085110702\n",
            "Loss:  0.011773747553166179\n",
            "Loss:  0.011770956408598604\n",
            "Loss:  0.011768172631907287\n",
            "Loss:  0.011765396203642996\n",
            "Loss:  0.011762627104407846\n",
            "Loss:  0.011759865314855157\n",
            "Loss:  0.011757110815689323\n",
            "Loss:  0.011754363587665666\n",
            "Loss:  0.011751623611590309\n",
            "Loss:  0.01174889086832005\n",
            "Loss:  0.01174616533876221\n",
            "Loss:  0.011743447003874532\n",
            "Loss:  0.011740735844664991\n",
            "Loss:  0.011738031842191713\n",
            "Loss:  0.011735334977562835\n",
            "Loss:  0.011732645231936347\n",
            "Loss:  0.011729962586519984\n",
            "Loss:  0.011727287022571089\n",
            "Loss:  0.011724618521396486\n",
            "Loss:  0.01172195706435232\n",
            "Loss:  0.011719302632843992\n",
            "Loss:  0.01171665520832594\n",
            "Loss:  0.011714014772301592\n",
            "Loss:  0.011711381306323187\n",
            "Loss:  0.011708754791991672\n",
            "Loss:  0.01170613521095655\n",
            "Loss:  0.011703522544915775\n",
            "Loss:  0.011700916775615602\n",
            "Loss:  0.011698317884850483\n",
            "Loss:  0.01169572585446292\n",
            "Loss:  0.011693140666343353\n",
            "Loss:  0.011690562302430015\n",
            "Loss:  0.011687990744708825\n",
            "Loss:  0.011685425975213257\n",
            "Loss:  0.011682867976024207\n",
            "Loss:  0.01168031672926988\n",
            "Loss:  0.011677772217125635\n",
            "Loss:  0.011675234421813918\n",
            "Loss:  0.011672703325604071\n",
            "Loss:  0.01167017891081226\n",
            "Loss:  0.011667661159801328\n",
            "Loss:  0.01166515005498067\n",
            "Loss:  0.011662645578806119\n",
            "Loss:  0.011660147713779824\n",
            "Loss:  0.011657656442450115\n",
            "Loss:  0.011655171747411389\n",
            "Loss:  0.011652693611304\n",
            "Loss:  0.011650222016814125\n",
            "Loss:  0.011647756946673632\n",
            "Loss:  0.011645298383659988\n",
            "Loss:  0.011642846310596111\n",
            "Loss:  0.011640400710350272\n",
            "Loss:  0.011637961565835953\n",
            "Loss:  0.011635528860011748\n",
            "Loss:  0.011633102575881238\n",
            "Loss:  0.011630682696492874\n",
            "Loss:  0.011628269204939836\n",
            "Loss:  0.011625862084359949\n",
            "Loss:  0.011623461317935539\n",
            "Loss:  0.011621066888893345\n",
            "Loss:  0.011618678780504354\n",
            "Loss:  0.011616296976083742\n",
            "Loss:  0.011613921458990716\n",
            "Loss:  0.011611552212628405\n",
            "Loss:  0.011609189220443752\n",
            "Loss:  0.01160683246592741\n",
            "Loss:  0.01160448193261359\n",
            "Loss:  0.011602137604079986\n",
            "Loss:  0.011599799463947626\n",
            "Loss:  0.011597467495880788\n",
            "Loss:  0.011595141683586871\n",
            "Loss:  0.011592822010816274\n",
            "Loss:  0.011590508461362295\n",
            "Loss:  0.011588201019061013\n",
            "Loss:  0.01158589966779118\n",
            "Loss:  0.0115836043914741\n",
            "Loss:  0.011581315174073516\n",
            "Loss:  0.01157903199959551\n",
            "Loss:  0.011576754852088377\n",
            "Loss:  0.011574483715642524\n",
            "Loss:  0.01157221857439036\n",
            "Loss:  0.011569959412506168\n",
            "Loss:  0.011567706214206015\n",
            "Loss:  0.011565458963747631\n",
            "Loss:  0.011563217645430305\n",
            "Loss:  0.011560982243594767\n",
            "Loss:  0.011558752742623085\n",
            "Loss:  0.011556529126938558\n",
            "Loss:  0.01155431138100559\n",
            "Loss:  0.011552099489329616\n",
            "Loss:  0.011549893436456954\n",
            "Loss:  0.011547693206974723\n",
            "Loss:  0.011545498785510732\n",
            "Loss:  0.01154331015673336\n",
            "Loss:  0.011541127305351461\n",
            "Loss:  0.011538950216114256\n",
            "Loss:  0.011536778873811224\n",
            "Loss:  0.011534613263271987\n",
            "Loss:  0.011532453369366227\n",
            "Loss:  0.011530299177003546\n",
            "Loss:  0.011528150671133407\n",
            "Loss:  0.011526007836744978\n",
            "Loss:  0.011523870658867069\n",
            "Loss:  0.011521739122567997\n",
            "Loss:  0.011519613212955505\n",
            "Loss:  0.011517492915176644\n",
            "Loss:  0.011515378214417669\n",
            "Loss:  0.011513269095903946\n",
            "Loss:  0.011511165544899829\n",
            "Loss:  0.011509067546708593\n",
            "Loss:  0.011506975086672285\n",
            "Loss:  0.011504888150171654\n",
            "Loss:  0.011502806722626047\n",
            "Loss:  0.011500730789493293\n",
            "Loss:  0.011498660336269607\n",
            "Loss:  0.01149659534848949\n",
            "Loss:  0.011494535811725642\n",
            "Loss:  0.011492481711588818\n",
            "Loss:  0.011490433033727796\n",
            "Loss:  0.011488389763829194\n",
            "Loss:  0.01148635188761745\n",
            "Loss:  0.011484319390854668\n",
            "Loss:  0.011482292259340538\n",
            "Loss:  0.011480270478912237\n",
            "Loss:  0.01147825403544433\n",
            "Loss:  0.011476242914848658\n",
            "Loss:  0.01147423710307427\n",
            "Loss:  0.01147223658610729\n",
            "Loss:  0.011470241349970843\n",
            "Loss:  0.011468251380724945\n",
            "Loss:  0.011466266664466408\n",
            "Loss:  0.01146428718732876\n",
            "Loss:  0.011462312935482112\n",
            "Loss:  0.011460343895133094\n",
            "Loss:  0.011458380052524744\n",
            "Loss:  0.011456421393936413\n",
            "Loss:  0.011454467905683673\n",
            "Loss:  0.011452519574118221\n",
            "Loss:  0.011450576385627773\n",
            "Loss:  0.01144863832663599\n",
            "Loss:  0.011446705383602365\n",
            "Loss:  0.01144477754302213\n",
            "Loss:  0.01144285479142618\n",
            "Loss:  0.01144093711538095\n",
            "Loss:  0.01143902450148834\n",
            "Loss:  0.011437116936385628\n",
            "Loss:  0.011435214406745345\n",
            "Loss:  0.011433316899275216\n",
            "Loss:  0.011431424400718062\n",
            "Loss:  0.01142953689785169\n",
            "Loss:  0.011427654377488801\n",
            "Loss:  0.011425776826476924\n",
            "Loss:  0.011423904231698296\n",
            "Loss:  0.011422036580069786\n",
            "Loss:  0.011420173858542802\n",
            "Loss:  0.011418316054103185\n",
            "Loss:  0.01141646315377114\n",
            "Loss:  0.011414615144601134\n",
            "Loss:  0.011412772013681804\n",
            "Loss:  0.011410933748135869\n",
            "Loss:  0.011409100335120055\n",
            "Loss:  0.011407271761824964\n",
            "Loss:  0.011405448015475028\n",
            "Loss:  0.01140362908332841\n",
            "Loss:  0.01140181495267689\n",
            "Loss:  0.011400005610845807\n",
            "Loss:  0.01139820104519395\n",
            "Loss:  0.011396401243113488\n",
            "Loss:  0.011394606192029855\n",
            "Loss:  0.011392815879401703\n",
            "Loss:  0.011391030292720759\n",
            "Loss:  0.011389249419511789\n",
            "Loss:  0.011387473247332495\n",
            "Loss:  0.011385701763773404\n",
            "Loss:  0.01138393495645782\n",
            "Loss:  0.011382172813041696\n",
            "Loss:  0.011380415321213594\n",
            "Loss:  0.011378662468694558\n",
            "Loss:  0.011376914243238055\n",
            "Loss:  0.011375170632629873\n",
            "Loss:  0.011373431624688044\n",
            "Loss:  0.011371697207262763\n",
            "Loss:  0.011369967368236289\n",
            "Loss:  0.011368242095522871\n",
            "Loss:  0.011366521377068665\n",
            "Loss:  0.011364805200851636\n",
            "Loss:  0.011363093554881494\n",
            "Loss:  0.011361386427199603\n",
            "Loss:  0.011359683805878883\n",
            "Loss:  0.011357985679023743\n",
            "Loss:  0.011356292034770003\n",
            "Loss:  0.01135460286128478\n",
            "Loss:  0.011352918146766448\n",
            "Loss:  0.011351237879444524\n",
            "Loss:  0.011349562047579597\n",
            "Loss:  0.011347890639463239\n",
            "Loss:  0.011346223643417943\n",
            "Loss:  0.01134456104779701\n",
            "Loss:  0.01134290284098451\n",
            "Loss:  0.01134124901139515\n",
            "Loss:  0.011339599547474228\n",
            "Loss:  0.011337954437697554\n",
            "Loss:  0.011336313670571339\n",
            "Loss:  0.011334677234632154\n",
            "Loss:  0.011333045118446825\n",
            "Loss:  0.011331417310612345\n",
            "Loss:  0.011329793799755824\n",
            "Loss:  0.011328174574534383\n",
            "Loss:  0.0113265596236351\n",
            "Loss:  0.011324948935774898\n",
            "Loss:  0.011323342499700496\n",
            "Loss:  0.011321740304188312\n",
            "Loss:  0.011320142338044396\n",
            "Loss:  0.011318548590104349\n",
            "Loss:  0.011316959049233235\n",
            "Loss:  0.01131537370432551\n",
            "Loss:  0.011313792544304962\n",
            "Loss:  0.011312215558124599\n",
            "Loss:  0.011310642734766601\n",
            "Loss:  0.01130907406324223\n",
            "Loss:  0.01130750953259175\n",
            "Loss:  0.011305949131884364\n",
            "Loss:  0.01130439285021812\n",
            "Loss:  0.011302840676719852\n",
            "Loss:  0.011301292600545092\n",
            "Loss:  0.011299748610878005\n",
            "Loss:  0.0112982086969313\n",
            "Loss:  0.01129667284794616\n",
            "Loss:  0.011295141053192176\n",
            "Loss:  0.011293613301967263\n",
            "Loss:  0.011292089583597575\n",
            "Loss:  0.011290569887437459\n",
            "Loss:  0.011289054202869353\n",
            "Loss:  0.01128754251930373\n",
            "Loss:  0.011286034826179004\n",
            "Loss:  0.011284531112961483\n",
            "Loss:  0.01128303136914527\n",
            "Loss:  0.011281535584252213\n",
            "Loss:  0.011280043747831807\n",
            "Loss:  0.011278555849461136\n",
            "Loss:  0.011277071878744802\n",
            "Loss:  0.011275591825314853\n",
            "Loss:  0.011274115678830693\n",
            "Loss:  0.011272643428979028\n",
            "Loss:  0.01127117506547379\n",
            "Loss:  0.011269710578056062\n",
            "Loss:  0.01126824995649401\n",
            "Loss:  0.011266793190582804\n",
            "Loss:  0.011265340270144562\n",
            "Loss:  0.011263891185028255\n",
            "Loss:  0.011262445925109664\n",
            "Loss:  0.01126100448029128\n",
            "Loss:  0.011259566840502264\n",
            "Loss:  0.01125813299569835\n",
            "Loss:  0.011256702935861802\n",
            "Loss:  0.011255276651001305\n",
            "Loss:  0.011253854131151937\n",
            "Loss:  0.011252435366375069\n",
            "Loss:  0.011251020346758314\n",
            "Loss:  0.01124960906241545\n",
            "Loss:  0.011248201503486354\n",
            "Loss:  0.01124679766013692\n",
            "Loss:  0.011245397522559025\n",
            "Loss:  0.011244001080970407\n",
            "Loss:  0.011242608325614648\n",
            "Loss:  0.011241219246761079\n",
            "Loss:  0.01123983383470471\n",
            "Loss:  0.011238452079766183\n",
            "Loss:  0.011237073972291678\n",
            "Loss:  0.011235699502652872\n",
            "Loss:  0.011234328661246842\n",
            "Loss:  0.011232961438496027\n",
            "Loss:  0.01123159782484814\n",
            "Loss:  0.011230237810776113\n",
            "Loss:  0.011228881386778031\n",
            "Loss:  0.011227528543377054\n",
            "Loss:  0.011226179271121366\n",
            "Loss:  0.011224833560584091\n",
            "Loss:  0.01122349140236325\n",
            "Loss:  0.01122215278708167\n",
            "Loss:  0.011220817705386944\n",
            "Loss:  0.011219486147951345\n",
            "Loss:  0.011218158105471769\n",
            "Loss:  0.01121683356866967\n",
            "Loss:  0.011215512528290991\n",
            "Loss:  0.011214194975106112\n",
            "Loss:  0.011212880899909778\n",
            "Loss:  0.011211570293521024\n",
            "Loss:  0.011210263146783129\n",
            "Loss:  0.011208959450563525\n",
            "Loss:  0.011207659195753776\n",
            "Loss:  0.011206362373269475\n",
            "Loss:  0.011205068974050207\n",
            "Loss:  0.011203778989059459\n",
            "Loss:  0.011202492409284582\n",
            "Loss:  0.011201209225736714\n",
            "Loss:  0.01119992942945072\n",
            "Loss:  0.011198653011485147\n",
            "Loss:  0.011197379962922112\n",
            "Loss:  0.011196110274867306\n",
            "Loss:  0.011194843938449878\n",
            "Loss:  0.011193580944822399\n",
            "Loss:  0.011192321285160805\n",
            "Loss:  0.011191064950664312\n",
            "Loss:  0.011189811932555367\n",
            "Loss:  0.011188562222079599\n",
            "Loss:  0.011187315810505739\n",
            "Loss:  0.011186072689125566\n",
            "Loss:  0.011184832849253843\n",
            "Loss:  0.011183596282228274\n",
            "Loss:  0.01118236297940941\n",
            "Loss:  0.011181132932180624\n",
            "Loss:  0.01117990613194802\n",
            "Loss:  0.011178682570140399\n",
            "Loss:  0.011177462238209186\n",
            "Loss:  0.011176245127628364\n",
            "Loss:  0.011175031229894439\n",
            "Loss:  0.011173820536526338\n",
            "Loss:  0.011172613039065405\n",
            "Loss:  0.011171408729075289\n",
            "Loss:  0.011170207598141926\n",
            "Loss:  0.011169009637873453\n",
            "Loss:  0.011167814839900156\n",
            "Loss:  0.01116662319587443\n",
            "Loss:  0.011165434697470684\n",
            "Loss:  0.011164249336385325\n",
            "Loss:  0.011163067104336667\n",
            "Loss:  0.011161887993064888\n",
            "Loss:  0.01116071199433197\n",
            "Loss:  0.011159539099921645\n",
            "Loss:  0.011158369301639326\n",
            "Loss:  0.011157202591312067\n",
            "Loss:  0.01115603896078849\n",
            "Paràmetres:  2.064934290415253 -0.02719578781702515\n"
          ]
        }
      ],
      "source": [
        "while L(x,y,w1,w2).sum()/N > 0.011156881:\n",
        "    w1 = w1 - delta_w1(w1, w2, x, y, learning_rate)\n",
        "    w2 = w2 - delta_w2(w1, w2, x, y, learning_rate)\n",
        "    print(\"Loss: \", L(x,y,w1,w2).sum()/N)\n",
        "\n",
        "print(\"Paràmetres: \",w1,w2)"
      ]
    },
    {
      "cell_type": "code",
      "execution_count": 8,
      "metadata": {
        "colab": {
          "base_uri": "https://localhost:8080/",
          "height": 570
        },
        "id": "YC1XEjD8SRW1",
        "outputId": "352ba113-1a63-44f4-8972-3431ed4416dd"
      },
      "outputs": [
        {
          "data": {
            "image/png": "[encoded data removed]",
            "text/plain": [
              "<Figure size 1200x600 with 1 Axes>"
            ]
          },
          "metadata": {},
          "output_type": "display_data"
        }
      ],
      "source": [
        "def est_f(x): return w1*x+w2\n",
        "def ini_f(x): return w1_ini*x+w2_ini\n",
        "\n",
        "plt.plot(x, y, 'o', label='y')\n",
        "plt.plot([0, 1], [true_f(0), true_f(1)], 'b-', label='f(x) original')\n",
        "plt.plot([0, 1], [est_f(0), est_f(1)], 'r-', label='f(x) estimada')\n",
        "plt.plot([0, 1], [ini_f(0), ini_f(1)], 'g-', label='f(x) inicial')\n",
        "plt.xlabel('$x$', fontsize=15)\n",
        "plt.ylabel('$t$', fontsize=15)\n",
        "plt.ylim([0,2])\n",
        "plt.title('inputs (x) vs targets (y)')\n",
        "plt.grid()\n",
        "plt.legend(loc=2)\n",
        "plt.gcf().set_size_inches((12,6))\n",
        "plt.show()"
      ]
    },
    {
      "cell_type": "markdown",
      "metadata": {},
      "source": [
        "De una muestra finita NO puedo sacar el modelo perfecto. Lo importante es que se aproxime mucho y que esté basado en datos."
      ]
    }
  ],
  "metadata": {
    "colab": {
      "provenance": []
    },
    "kernel_info": {
      "name": "python3"
    },
    "kernelspec": {
      "display_name": "base",
      "language": "python",
      "name": "python3"
    },
    "language_info": {
      "codemirror_mode": {
        "name": "ipython",
        "version": 3
      },
      "file_extension": ".py",
      "mimetype": "text/x-python",
      "name": "python",
      "nbconvert_exporter": "python",
      "pygments_lexer": "ipython3",
      "version": "3.12.7"
    },
    "nteract": {
      "version": "0.12.3"
    }
  },
  "nbformat": 4,
  "nbformat_minor": 0
}
